{
 "cells": [
  {
   "cell_type": "markdown",
   "metadata": {},
   "source": [
    "# TP de statistique inférentielle\n",
    "> #### A propos de jupyter notebook.\n",
    "C'est un espace qui permet de mélanger du texte (même latex), code etc. \n",
    "Pour executer une cellule tapez Enter. Pour inserer une nouvelle cellule à un endroit, ou changer le type d'une cellule existante vous pouvez utiliser le menu en haut.\n",
    "Par exemple ceci est une cellule dite \"Markdown\" pour du texte.\n",
    "En bas vous allez voir des celules type \"code\" ou on peut executer du code (Python3 ici).\n",
    "On encourage à se documenter sur internet (https://jupyter-notebook.readthedocs.io/en/stable/ site officiel par exemple) ou un grand nombre de tutoriels et réponses aux questions sont présents.\n",
    "\n",
    " #### A propos des différents modules utilisés. \n",
    " \n",
    "On encourage fortement à se documenter sur internet pour des questions plus poussées (ou pas)\n",
    "    \n",
    "> **pandas**: est un module qui permet d'analyser et de manipuler les données. On verra en particulier l'objet dataframe qui permet de manipuler des tables de données.\n",
    " \n",
    ">**matplotlib.pyplot**: est un module permettant d'afficher des graphiques.\n",
    "    seaborn: un module qui permet de visualiser les données. Souvent, quand on sait le manipuler, ça donne des résultats \"plus beaux\" que matplotlib.pyplot\n",
    "\n",
    ">**numpy**: Un package de calcul scientifique\n",
    "\n",
    ">**scipy.stats**: Un module qui contient un grand nombre d'outils statistiques: distribution, fonction de répartition, tests etc.\n",
    "\n",
    "#### Consignes.\n",
    ">   \n",
    "Répondre à chaque question dans les cellules que vous créerez après la question correspondante.\n",
    "\n",
    ">La note prendra compte de la **présentation et de la clareté** des réponses.\n",
    " \n",
    ">Envoyez le le fichier jupyter notebook sur le mail\n",
    "sholom.schechtman@telecom-sudparis.eu. Le nom du fichier et le sujet du mail doit être indiqué: **<span style=\"color:red\">TP1_NOM_PRENOM</span>**. C'est **important** pour que votre tp ne se perde pas et soit **noté**.\n",
    "\n",
    ">**<span style=\"color:red\">Attention</span>** à bien envoyer sur la bonne adresse mail. C'est sholom.schechtman@telecom-<span style=\"color:red\">sudparis</span>.eu (une ancienne adresse désuète est présente dans le répertoire zimbra).\n",
    "\n",
    ">Délai: Le tp est à rendre avant **<span style=\"color:red\">vendredi 15 mars 23h59</span>**\n",
    "\n",
    ">Note: Pour recevoir une note il faut faire **<span style=\"color:red\">les 2 TPs</span>**: celui-là et celui portant sur les sondages début avril.\n"
   ]
  },
  {
   "cell_type": "markdown",
   "metadata": {},
   "source": [
    "**On importe les packages nécessaires**"
   ]
  },
  {
   "cell_type": "code",
   "execution_count": 1,
   "metadata": {},
   "outputs": [],
   "source": [
    "import pandas as pd\n",
    "import matplotlib.pyplot as plt\n",
    "import numpy as np\n",
    "import scipy.stats as stat\n",
    "import seaborn as sns\n",
    "%matplotlib inline"
   ]
  },
  {
   "cell_type": "markdown",
   "metadata": {},
   "source": [
    "# Exercice 1. pandas et manipulations de données"
   ]
  },
  {
   "cell_type": "markdown",
   "metadata": {},
   "source": [
    "> ### 1. \n",
    "Créez un dictionnaire, representant nos données: `data = {\"nom\": [\"tutu\", \"toto\", \"titi\"],\n",
    "       \"sexe\": [\"M\", \"M\", \"F\"],\n",
    "       \"taille\": [1.56, 1.82, 1.70], \n",
    "       \"naissance\": [\"11/12/82\", \"21/12/82\", \"25/12/83\"]}`\n",
    "       \n",
    "> Utilisez la commande `df = pd.DataFrame(data)` pour importer les données dans un Dataframe de nom df\n"
   ]
  },
  {
   "cell_type": "code",
   "execution_count": 2,
   "metadata": {},
   "outputs": [
    {
     "data": {
      "text/html": [
       "<div>\n",
       "<style scoped>\n",
       "    .dataframe tbody tr th:only-of-type {\n",
       "        vertical-align: middle;\n",
       "    }\n",
       "\n",
       "    .dataframe tbody tr th {\n",
       "        vertical-align: top;\n",
       "    }\n",
       "\n",
       "    .dataframe thead th {\n",
       "        text-align: right;\n",
       "    }\n",
       "</style>\n",
       "<table border=\"1\" class=\"dataframe\">\n",
       "  <thead>\n",
       "    <tr style=\"text-align: right;\">\n",
       "      <th></th>\n",
       "      <th>nom</th>\n",
       "      <th>sexe</th>\n",
       "      <th>taille</th>\n",
       "      <th>naissance</th>\n",
       "    </tr>\n",
       "  </thead>\n",
       "  <tbody>\n",
       "    <tr>\n",
       "      <th>0</th>\n",
       "      <td>tutu</td>\n",
       "      <td>M</td>\n",
       "      <td>1.56</td>\n",
       "      <td>11/12/82</td>\n",
       "    </tr>\n",
       "    <tr>\n",
       "      <th>1</th>\n",
       "      <td>toto</td>\n",
       "      <td>M</td>\n",
       "      <td>1.82</td>\n",
       "      <td>21/12/82</td>\n",
       "    </tr>\n",
       "    <tr>\n",
       "      <th>2</th>\n",
       "      <td>titi</td>\n",
       "      <td>F</td>\n",
       "      <td>1.70</td>\n",
       "      <td>25/12/83</td>\n",
       "    </tr>\n",
       "  </tbody>\n",
       "</table>\n",
       "</div>"
      ],
      "text/plain": [
       "    nom sexe  taille naissance\n",
       "0  tutu    M    1.56  11/12/82\n",
       "1  toto    M    1.82  21/12/82\n",
       "2  titi    F    1.70  25/12/83"
      ]
     },
     "execution_count": 2,
     "metadata": {},
     "output_type": "execute_result"
    }
   ],
   "source": [
    "data = {\"nom\": [\"tutu\", \"toto\", \"titi\"], \"sexe\": [\"M\", \"M\", \"F\"], \"taille\": [1.56, 1.82, 1.70], \"naissance\": [\"11/12/82\", \"21/12/82\", \"25/12/83\"]}\n",
    "df = pd.DataFrame(data)\n",
    "df"
   ]
  },
  {
   "cell_type": "markdown",
   "metadata": {},
   "source": [
    "> ### 2. \n",
    "Testez et décrivez le fonctionnement des commandes `df.head()`, `df.head(0)`, `df.head(1)`, `df.head(2)`. "
   ]
  },
  {
   "cell_type": "code",
   "execution_count": 3,
   "metadata": {},
   "outputs": [
    {
     "data": {
      "text/html": [
       "<div>\n",
       "<style scoped>\n",
       "    .dataframe tbody tr th:only-of-type {\n",
       "        vertical-align: middle;\n",
       "    }\n",
       "\n",
       "    .dataframe tbody tr th {\n",
       "        vertical-align: top;\n",
       "    }\n",
       "\n",
       "    .dataframe thead th {\n",
       "        text-align: right;\n",
       "    }\n",
       "</style>\n",
       "<table border=\"1\" class=\"dataframe\">\n",
       "  <thead>\n",
       "    <tr style=\"text-align: right;\">\n",
       "      <th></th>\n",
       "      <th>nom</th>\n",
       "      <th>sexe</th>\n",
       "      <th>taille</th>\n",
       "      <th>naissance</th>\n",
       "    </tr>\n",
       "  </thead>\n",
       "  <tbody>\n",
       "    <tr>\n",
       "      <th>0</th>\n",
       "      <td>tutu</td>\n",
       "      <td>M</td>\n",
       "      <td>1.56</td>\n",
       "      <td>11/12/82</td>\n",
       "    </tr>\n",
       "    <tr>\n",
       "      <th>1</th>\n",
       "      <td>toto</td>\n",
       "      <td>M</td>\n",
       "      <td>1.82</td>\n",
       "      <td>21/12/82</td>\n",
       "    </tr>\n",
       "    <tr>\n",
       "      <th>2</th>\n",
       "      <td>titi</td>\n",
       "      <td>F</td>\n",
       "      <td>1.70</td>\n",
       "      <td>25/12/83</td>\n",
       "    </tr>\n",
       "  </tbody>\n",
       "</table>\n",
       "</div>"
      ],
      "text/plain": [
       "    nom sexe  taille naissance\n",
       "0  tutu    M    1.56  11/12/82\n",
       "1  toto    M    1.82  21/12/82\n",
       "2  titi    F    1.70  25/12/83"
      ]
     },
     "execution_count": 3,
     "metadata": {},
     "output_type": "execute_result"
    }
   ],
   "source": [
    "df.head()"
   ]
  },
  {
   "cell_type": "markdown",
   "metadata": {},
   "source": [
    "df.head() est est sensé renvoyer les 5 premieres lignes de la dataframe df, sauf que df ne comprend que 3 lignes donc toutes les lignes sont renvoyées par df.head()\n",
    "df.head(0), df.head(1), df.head(2) renvoient respectivement la premiere, les 2 premieres et les 3 premieres lignes de la dataframe df"
   ]
  },
  {
   "cell_type": "markdown",
   "metadata": {},
   "source": [
    "> ### 3. \n",
    "Qu'est ce qui se passe si on remplace head par tail dans la question précédente? \n"
   ]
  },
  {
   "cell_type": "markdown",
   "metadata": {},
   "source": [
    "Dans ce cas les dernieres lignes de la dataframe sont renvoyées. par exemple: df.tail(3) renvoie les 3 dernieres lignes de la dataframe et df.tail renvoie les 5 dernieres lignes de la dataframe"
   ]
  },
  {
   "cell_type": "markdown",
   "metadata": {},
   "source": [
    "> ### 4.\n",
    "Décrivez le fonctionnement de la commande `df.sort_values`: prenez un argument \"taille\" et testez deux valeurs `ascending= True` et `ascending = False`"
   ]
  },
  {
   "cell_type": "code",
   "execution_count": 4,
   "metadata": {},
   "outputs": [
    {
     "data": {
      "text/html": [
       "<div>\n",
       "<style scoped>\n",
       "    .dataframe tbody tr th:only-of-type {\n",
       "        vertical-align: middle;\n",
       "    }\n",
       "\n",
       "    .dataframe tbody tr th {\n",
       "        vertical-align: top;\n",
       "    }\n",
       "\n",
       "    .dataframe thead th {\n",
       "        text-align: right;\n",
       "    }\n",
       "</style>\n",
       "<table border=\"1\" class=\"dataframe\">\n",
       "  <thead>\n",
       "    <tr style=\"text-align: right;\">\n",
       "      <th></th>\n",
       "      <th>nom</th>\n",
       "      <th>sexe</th>\n",
       "      <th>taille</th>\n",
       "      <th>naissance</th>\n",
       "    </tr>\n",
       "  </thead>\n",
       "  <tbody>\n",
       "    <tr>\n",
       "      <th>0</th>\n",
       "      <td>tutu</td>\n",
       "      <td>M</td>\n",
       "      <td>1.56</td>\n",
       "      <td>11/12/82</td>\n",
       "    </tr>\n",
       "    <tr>\n",
       "      <th>2</th>\n",
       "      <td>titi</td>\n",
       "      <td>F</td>\n",
       "      <td>1.70</td>\n",
       "      <td>25/12/83</td>\n",
       "    </tr>\n",
       "    <tr>\n",
       "      <th>1</th>\n",
       "      <td>toto</td>\n",
       "      <td>M</td>\n",
       "      <td>1.82</td>\n",
       "      <td>21/12/82</td>\n",
       "    </tr>\n",
       "  </tbody>\n",
       "</table>\n",
       "</div>"
      ],
      "text/plain": [
       "    nom sexe  taille naissance\n",
       "0  tutu    M    1.56  11/12/82\n",
       "2  titi    F    1.70  25/12/83\n",
       "1  toto    M    1.82  21/12/82"
      ]
     },
     "execution_count": 4,
     "metadata": {},
     "output_type": "execute_result"
    }
   ],
   "source": [
    "df.sort_values('taille')"
   ]
  },
  {
   "cell_type": "markdown",
   "metadata": {},
   "source": [
    "fd.sort_values('taille') renvoie les lignes de la dataframe triées par rapport à la caractéristique 'taille'"
   ]
  },
  {
   "cell_type": "markdown",
   "metadata": {},
   "source": [
    "\n",
    "\n",
    "> ### 5.\n",
    "    \n",
    "> Testez et décrivez la commande `df[\"var\"] = [1 if x > 1.6 else 0 for x in df[\"taille\"]]`?"
   ]
  },
  {
   "cell_type": "code",
   "execution_count": 5,
   "metadata": {},
   "outputs": [
    {
     "data": {
      "text/html": [
       "<div>\n",
       "<style scoped>\n",
       "    .dataframe tbody tr th:only-of-type {\n",
       "        vertical-align: middle;\n",
       "    }\n",
       "\n",
       "    .dataframe tbody tr th {\n",
       "        vertical-align: top;\n",
       "    }\n",
       "\n",
       "    .dataframe thead th {\n",
       "        text-align: right;\n",
       "    }\n",
       "</style>\n",
       "<table border=\"1\" class=\"dataframe\">\n",
       "  <thead>\n",
       "    <tr style=\"text-align: right;\">\n",
       "      <th></th>\n",
       "      <th>nom</th>\n",
       "      <th>sexe</th>\n",
       "      <th>taille</th>\n",
       "      <th>naissance</th>\n",
       "      <th>var</th>\n",
       "    </tr>\n",
       "  </thead>\n",
       "  <tbody>\n",
       "    <tr>\n",
       "      <th>0</th>\n",
       "      <td>tutu</td>\n",
       "      <td>M</td>\n",
       "      <td>1.56</td>\n",
       "      <td>11/12/82</td>\n",
       "      <td>0</td>\n",
       "    </tr>\n",
       "    <tr>\n",
       "      <th>1</th>\n",
       "      <td>toto</td>\n",
       "      <td>M</td>\n",
       "      <td>1.82</td>\n",
       "      <td>21/12/82</td>\n",
       "      <td>1</td>\n",
       "    </tr>\n",
       "    <tr>\n",
       "      <th>2</th>\n",
       "      <td>titi</td>\n",
       "      <td>F</td>\n",
       "      <td>1.70</td>\n",
       "      <td>25/12/83</td>\n",
       "      <td>1</td>\n",
       "    </tr>\n",
       "  </tbody>\n",
       "</table>\n",
       "</div>"
      ],
      "text/plain": [
       "    nom sexe  taille naissance  var\n",
       "0  tutu    M    1.56  11/12/82    0\n",
       "1  toto    M    1.82  21/12/82    1\n",
       "2  titi    F    1.70  25/12/83    1"
      ]
     },
     "execution_count": 5,
     "metadata": {},
     "output_type": "execute_result"
    }
   ],
   "source": [
    "df[\"var\"] = [1 if x > 1.6 else 0 for x in df[\"taille\"]]\n",
    "df"
   ]
  },
  {
   "cell_type": "markdown",
   "metadata": {},
   "source": [
    "La commande df[\"var\"] = [1 if x > 1.6 else 0 for x in df[\"taille\"]] ajoute une colone nommée 'var' à la dataframe et ajoute à chaque ligne la valeur 0 si la taille est inférieure ou égale à 1.6 et 1 si la taille est supérieure strictement à 1.6."
   ]
  },
  {
   "cell_type": "markdown",
   "metadata": {},
   "source": [
    ">### 6. \n",
    "Supprimez la colonne \"var\" avec la commande `df.drop` (voir documentation et mettez axis=1 en argument)"
   ]
  },
  {
   "cell_type": "code",
   "execution_count": 6,
   "metadata": {},
   "outputs": [
    {
     "data": {
      "text/html": [
       "<div>\n",
       "<style scoped>\n",
       "    .dataframe tbody tr th:only-of-type {\n",
       "        vertical-align: middle;\n",
       "    }\n",
       "\n",
       "    .dataframe tbody tr th {\n",
       "        vertical-align: top;\n",
       "    }\n",
       "\n",
       "    .dataframe thead th {\n",
       "        text-align: right;\n",
       "    }\n",
       "</style>\n",
       "<table border=\"1\" class=\"dataframe\">\n",
       "  <thead>\n",
       "    <tr style=\"text-align: right;\">\n",
       "      <th></th>\n",
       "      <th>nom</th>\n",
       "      <th>sexe</th>\n",
       "      <th>naissance</th>\n",
       "      <th>var</th>\n",
       "    </tr>\n",
       "  </thead>\n",
       "  <tbody>\n",
       "    <tr>\n",
       "      <th>0</th>\n",
       "      <td>tutu</td>\n",
       "      <td>M</td>\n",
       "      <td>11/12/82</td>\n",
       "      <td>0</td>\n",
       "    </tr>\n",
       "    <tr>\n",
       "      <th>1</th>\n",
       "      <td>toto</td>\n",
       "      <td>M</td>\n",
       "      <td>21/12/82</td>\n",
       "      <td>1</td>\n",
       "    </tr>\n",
       "    <tr>\n",
       "      <th>2</th>\n",
       "      <td>titi</td>\n",
       "      <td>F</td>\n",
       "      <td>25/12/83</td>\n",
       "      <td>1</td>\n",
       "    </tr>\n",
       "  </tbody>\n",
       "</table>\n",
       "</div>"
      ],
      "text/plain": [
       "    nom sexe naissance  var\n",
       "0  tutu    M  11/12/82    0\n",
       "1  toto    M  21/12/82    1\n",
       "2  titi    F  25/12/83    1"
      ]
     },
     "execution_count": 6,
     "metadata": {},
     "output_type": "execute_result"
    }
   ],
   "source": [
    "df.drop('taille', axis = 1)"
   ]
  },
  {
   "cell_type": "markdown",
   "metadata": {},
   "source": [
    ">### 7.   \n",
    "Testez la commande `df.loc[df[\"sexe\"] == \"M\"]`.\n",
    "Testez la commande `df.loc[df[\"sexe\"] == \"M\", \"taille\"]`."
   ]
  },
  {
   "cell_type": "code",
   "execution_count": 7,
   "metadata": {},
   "outputs": [
    {
     "data": {
      "text/html": [
       "<div>\n",
       "<style scoped>\n",
       "    .dataframe tbody tr th:only-of-type {\n",
       "        vertical-align: middle;\n",
       "    }\n",
       "\n",
       "    .dataframe tbody tr th {\n",
       "        vertical-align: top;\n",
       "    }\n",
       "\n",
       "    .dataframe thead th {\n",
       "        text-align: right;\n",
       "    }\n",
       "</style>\n",
       "<table border=\"1\" class=\"dataframe\">\n",
       "  <thead>\n",
       "    <tr style=\"text-align: right;\">\n",
       "      <th></th>\n",
       "      <th>nom</th>\n",
       "      <th>sexe</th>\n",
       "      <th>taille</th>\n",
       "      <th>naissance</th>\n",
       "      <th>var</th>\n",
       "    </tr>\n",
       "  </thead>\n",
       "  <tbody>\n",
       "    <tr>\n",
       "      <th>0</th>\n",
       "      <td>tutu</td>\n",
       "      <td>M</td>\n",
       "      <td>1.56</td>\n",
       "      <td>11/12/82</td>\n",
       "      <td>0</td>\n",
       "    </tr>\n",
       "    <tr>\n",
       "      <th>1</th>\n",
       "      <td>toto</td>\n",
       "      <td>M</td>\n",
       "      <td>1.82</td>\n",
       "      <td>21/12/82</td>\n",
       "      <td>1</td>\n",
       "    </tr>\n",
       "  </tbody>\n",
       "</table>\n",
       "</div>"
      ],
      "text/plain": [
       "    nom sexe  taille naissance  var\n",
       "0  tutu    M    1.56  11/12/82    0\n",
       "1  toto    M    1.82  21/12/82    1"
      ]
     },
     "execution_count": 7,
     "metadata": {},
     "output_type": "execute_result"
    }
   ],
   "source": [
    "df.loc[df[\"sexe\"] == \"M\"]"
   ]
  },
  {
   "cell_type": "code",
   "execution_count": 8,
   "metadata": {},
   "outputs": [
    {
     "data": {
      "text/plain": [
       "0    1.56\n",
       "1    1.82\n",
       "Name: taille, dtype: float64"
      ]
     },
     "execution_count": 8,
     "metadata": {},
     "output_type": "execute_result"
    }
   ],
   "source": [
    "df.loc[df[\"sexe\"] == \"M\", \"taille\"]"
   ]
  },
  {
   "cell_type": "code",
   "execution_count": 9,
   "metadata": {},
   "outputs": [
    {
     "data": {
      "text/plain": [
       "RangeIndex(start=0, stop=3, step=1)"
      ]
     },
     "execution_count": 9,
     "metadata": {},
     "output_type": "execute_result"
    }
   ],
   "source": [
    "df.index"
   ]
  },
  {
   "cell_type": "markdown",
   "metadata": {},
   "source": [
    ">### 8.\n",
    "\n",
    "\n",
    "On suppose que le poids d'un homme est poids = (tailleencm)/2 - 10\n",
    "et le poids d'une femme est poids = (tailleencm)/2 - 15\n",
    "\n",
    ">A l'aide des questions précédentes completez la colonne poids."
   ]
  },
  {
   "cell_type": "code",
   "execution_count": 10,
   "metadata": {},
   "outputs": [
    {
     "name": "stdout",
     "output_type": "stream",
     "text": [
      "0\n",
      "1\n",
      "2\n"
     ]
    },
    {
     "data": {
      "text/html": [
       "<div>\n",
       "<style scoped>\n",
       "    .dataframe tbody tr th:only-of-type {\n",
       "        vertical-align: middle;\n",
       "    }\n",
       "\n",
       "    .dataframe tbody tr th {\n",
       "        vertical-align: top;\n",
       "    }\n",
       "\n",
       "    .dataframe thead th {\n",
       "        text-align: right;\n",
       "    }\n",
       "</style>\n",
       "<table border=\"1\" class=\"dataframe\">\n",
       "  <thead>\n",
       "    <tr style=\"text-align: right;\">\n",
       "      <th></th>\n",
       "      <th>nom</th>\n",
       "      <th>sexe</th>\n",
       "      <th>taille</th>\n",
       "      <th>naissance</th>\n",
       "      <th>var</th>\n",
       "      <th>poids</th>\n",
       "    </tr>\n",
       "  </thead>\n",
       "  <tbody>\n",
       "    <tr>\n",
       "      <th>0</th>\n",
       "      <td>tutu</td>\n",
       "      <td>M</td>\n",
       "      <td>1.56</td>\n",
       "      <td>11/12/82</td>\n",
       "      <td>0</td>\n",
       "      <td>68.0</td>\n",
       "    </tr>\n",
       "    <tr>\n",
       "      <th>1</th>\n",
       "      <td>toto</td>\n",
       "      <td>M</td>\n",
       "      <td>1.82</td>\n",
       "      <td>21/12/82</td>\n",
       "      <td>1</td>\n",
       "      <td>81.0</td>\n",
       "    </tr>\n",
       "    <tr>\n",
       "      <th>2</th>\n",
       "      <td>titi</td>\n",
       "      <td>F</td>\n",
       "      <td>1.70</td>\n",
       "      <td>25/12/83</td>\n",
       "      <td>1</td>\n",
       "      <td>70.0</td>\n",
       "    </tr>\n",
       "  </tbody>\n",
       "</table>\n",
       "</div>"
      ],
      "text/plain": [
       "    nom sexe  taille naissance  var  poids\n",
       "0  tutu    M    1.56  11/12/82    0   68.0\n",
       "1  toto    M    1.82  21/12/82    1   81.0\n",
       "2  titi    F    1.70  25/12/83    1   70.0"
      ]
     },
     "execution_count": 10,
     "metadata": {},
     "output_type": "execute_result"
    }
   ],
   "source": [
    "for i in df.index:\n",
    "    print(i)\n",
    "    if df.loc[i, \"sexe\"] == \"M\":\n",
    "        df.loc[i, \"poids\"] = df.loc[i, \"taille\"]*100/2 - 10\n",
    "    else:\n",
    "        df.loc[i, \"poids\"] = df.loc[i, \"taille\"]*100/2 - 15\n",
    "df"
   ]
  },
  {
   "cell_type": "markdown",
   "metadata": {},
   "source": [
    "> ### 9. \n",
    "Que fait la commande `df[\"taille\"].mean()`?\n",
    "Faites apparaître le poids moyen des données"
   ]
  },
  {
   "cell_type": "code",
   "execution_count": 11,
   "metadata": {},
   "outputs": [
    {
     "data": {
      "text/plain": [
       "1.6933333333333334"
      ]
     },
     "execution_count": 11,
     "metadata": {},
     "output_type": "execute_result"
    }
   ],
   "source": [
    "df[\"taille\"].mean()"
   ]
  },
  {
   "cell_type": "markdown",
   "metadata": {},
   "source": [
    "La commande df[\"taille\"].mean() calcul la taille moyenne de la base de donnée.\n",
    "De manière générale, la commande col.mean() renvoie l'attribut moyen de la colonne col."
   ]
  },
  {
   "cell_type": "markdown",
   "metadata": {},
   "source": [
    "> ### 10. \n",
    "Que fait la commande `df.loc[df[\"sexe\"]==\"M\"]`?\n",
    "Faites apparaître le poids moyen des hommes"
   ]
  },
  {
   "cell_type": "code",
   "execution_count": 12,
   "metadata": {},
   "outputs": [
    {
     "data": {
      "text/html": [
       "<div>\n",
       "<style scoped>\n",
       "    .dataframe tbody tr th:only-of-type {\n",
       "        vertical-align: middle;\n",
       "    }\n",
       "\n",
       "    .dataframe tbody tr th {\n",
       "        vertical-align: top;\n",
       "    }\n",
       "\n",
       "    .dataframe thead th {\n",
       "        text-align: right;\n",
       "    }\n",
       "</style>\n",
       "<table border=\"1\" class=\"dataframe\">\n",
       "  <thead>\n",
       "    <tr style=\"text-align: right;\">\n",
       "      <th></th>\n",
       "      <th>nom</th>\n",
       "      <th>sexe</th>\n",
       "      <th>taille</th>\n",
       "      <th>naissance</th>\n",
       "      <th>var</th>\n",
       "      <th>poids</th>\n",
       "    </tr>\n",
       "  </thead>\n",
       "  <tbody>\n",
       "    <tr>\n",
       "      <th>0</th>\n",
       "      <td>tutu</td>\n",
       "      <td>M</td>\n",
       "      <td>1.56</td>\n",
       "      <td>11/12/82</td>\n",
       "      <td>0</td>\n",
       "      <td>68.0</td>\n",
       "    </tr>\n",
       "    <tr>\n",
       "      <th>1</th>\n",
       "      <td>toto</td>\n",
       "      <td>M</td>\n",
       "      <td>1.82</td>\n",
       "      <td>21/12/82</td>\n",
       "      <td>1</td>\n",
       "      <td>81.0</td>\n",
       "    </tr>\n",
       "  </tbody>\n",
       "</table>\n",
       "</div>"
      ],
      "text/plain": [
       "    nom sexe  taille naissance  var  poids\n",
       "0  tutu    M    1.56  11/12/82    0   68.0\n",
       "1  toto    M    1.82  21/12/82    1   81.0"
      ]
     },
     "execution_count": 12,
     "metadata": {},
     "output_type": "execute_result"
    }
   ],
   "source": [
    "df.loc[df[\"sexe\"]==\"M\"]"
   ]
  },
  {
   "cell_type": "markdown",
   "metadata": {},
   "source": [
    "La commande df.loc[df[\"sexe\"]==\"M\"] affiche les lignes de la base de donnée dont le sexe est \"M\"\n",
    "De manière générale, la commande df.loc[df[\"col\"]==\"att\"] renvoie les lignes de df dont la colonne \"col\" vaut l'attribut \"att\"."
   ]
  },
  {
   "cell_type": "markdown",
   "metadata": {},
   "source": [
    "> ### 11.\n",
    "Faites apparaître le nom de la personne la plus légère."
   ]
  },
  {
   "cell_type": "code",
   "execution_count": 13,
   "metadata": {},
   "outputs": [
    {
     "data": {
      "text/html": [
       "<div>\n",
       "<style scoped>\n",
       "    .dataframe tbody tr th:only-of-type {\n",
       "        vertical-align: middle;\n",
       "    }\n",
       "\n",
       "    .dataframe tbody tr th {\n",
       "        vertical-align: top;\n",
       "    }\n",
       "\n",
       "    .dataframe thead th {\n",
       "        text-align: right;\n",
       "    }\n",
       "</style>\n",
       "<table border=\"1\" class=\"dataframe\">\n",
       "  <thead>\n",
       "    <tr style=\"text-align: right;\">\n",
       "      <th></th>\n",
       "      <th>nom</th>\n",
       "      <th>sexe</th>\n",
       "      <th>taille</th>\n",
       "      <th>naissance</th>\n",
       "      <th>var</th>\n",
       "      <th>poids</th>\n",
       "    </tr>\n",
       "  </thead>\n",
       "  <tbody>\n",
       "    <tr>\n",
       "      <th>0</th>\n",
       "      <td>tutu</td>\n",
       "      <td>M</td>\n",
       "      <td>1.56</td>\n",
       "      <td>11/12/82</td>\n",
       "      <td>0</td>\n",
       "      <td>68.0</td>\n",
       "    </tr>\n",
       "  </tbody>\n",
       "</table>\n",
       "</div>"
      ],
      "text/plain": [
       "    nom sexe  taille naissance  var  poids\n",
       "0  tutu    M    1.56  11/12/82    0   68.0"
      ]
     },
     "execution_count": 13,
     "metadata": {},
     "output_type": "execute_result"
    }
   ],
   "source": [
    "df.loc[df[\"poids\"] == df[\"poids\"].min()]"
   ]
  },
  {
   "cell_type": "markdown",
   "metadata": {},
   "source": [
    "# Exercice 2: Analyse d'un jeude données bancaires"
   ]
  },
  {
   "cell_type": "markdown",
   "metadata": {},
   "source": [
    "    Le jeu de données german.data, disponible comporte des renseignements\n",
    "    sur 1000 clients d’une banque allemande, chaque client étant décrit par 20 variables.\n",
    "    \n",
    "    \n",
    "> ### 1. \n",
    "Téléchargez le et importez le dans une DataFrame en utilisant la commande `german = pd.read_csv(\"nom_du_fichier\", sep = ' ', header=None)`"
   ]
  },
  {
   "cell_type": "code",
   "execution_count": 14,
   "metadata": {},
   "outputs": [
    {
     "data": {
      "text/html": [
       "<div>\n",
       "<style scoped>\n",
       "    .dataframe tbody tr th:only-of-type {\n",
       "        vertical-align: middle;\n",
       "    }\n",
       "\n",
       "    .dataframe tbody tr th {\n",
       "        vertical-align: top;\n",
       "    }\n",
       "\n",
       "    .dataframe thead th {\n",
       "        text-align: right;\n",
       "    }\n",
       "</style>\n",
       "<table border=\"1\" class=\"dataframe\">\n",
       "  <thead>\n",
       "    <tr style=\"text-align: right;\">\n",
       "      <th></th>\n",
       "      <th>0</th>\n",
       "      <th>1</th>\n",
       "      <th>2</th>\n",
       "      <th>3</th>\n",
       "      <th>4</th>\n",
       "      <th>5</th>\n",
       "      <th>6</th>\n",
       "      <th>7</th>\n",
       "      <th>8</th>\n",
       "      <th>9</th>\n",
       "      <th>...</th>\n",
       "      <th>11</th>\n",
       "      <th>12</th>\n",
       "      <th>13</th>\n",
       "      <th>14</th>\n",
       "      <th>15</th>\n",
       "      <th>16</th>\n",
       "      <th>17</th>\n",
       "      <th>18</th>\n",
       "      <th>19</th>\n",
       "      <th>20</th>\n",
       "    </tr>\n",
       "  </thead>\n",
       "  <tbody>\n",
       "    <tr>\n",
       "      <th>0</th>\n",
       "      <td>A11</td>\n",
       "      <td>6</td>\n",
       "      <td>A34</td>\n",
       "      <td>A43</td>\n",
       "      <td>1169</td>\n",
       "      <td>A65</td>\n",
       "      <td>A75</td>\n",
       "      <td>4</td>\n",
       "      <td>A93</td>\n",
       "      <td>A101</td>\n",
       "      <td>...</td>\n",
       "      <td>A121</td>\n",
       "      <td>67</td>\n",
       "      <td>A143</td>\n",
       "      <td>A152</td>\n",
       "      <td>2</td>\n",
       "      <td>A173</td>\n",
       "      <td>1</td>\n",
       "      <td>A192</td>\n",
       "      <td>A201</td>\n",
       "      <td>1</td>\n",
       "    </tr>\n",
       "    <tr>\n",
       "      <th>1</th>\n",
       "      <td>A12</td>\n",
       "      <td>48</td>\n",
       "      <td>A32</td>\n",
       "      <td>A43</td>\n",
       "      <td>5951</td>\n",
       "      <td>A61</td>\n",
       "      <td>A73</td>\n",
       "      <td>2</td>\n",
       "      <td>A92</td>\n",
       "      <td>A101</td>\n",
       "      <td>...</td>\n",
       "      <td>A121</td>\n",
       "      <td>22</td>\n",
       "      <td>A143</td>\n",
       "      <td>A152</td>\n",
       "      <td>1</td>\n",
       "      <td>A173</td>\n",
       "      <td>1</td>\n",
       "      <td>A191</td>\n",
       "      <td>A201</td>\n",
       "      <td>2</td>\n",
       "    </tr>\n",
       "    <tr>\n",
       "      <th>2</th>\n",
       "      <td>A14</td>\n",
       "      <td>12</td>\n",
       "      <td>A34</td>\n",
       "      <td>A46</td>\n",
       "      <td>2096</td>\n",
       "      <td>A61</td>\n",
       "      <td>A74</td>\n",
       "      <td>2</td>\n",
       "      <td>A93</td>\n",
       "      <td>A101</td>\n",
       "      <td>...</td>\n",
       "      <td>A121</td>\n",
       "      <td>49</td>\n",
       "      <td>A143</td>\n",
       "      <td>A152</td>\n",
       "      <td>1</td>\n",
       "      <td>A172</td>\n",
       "      <td>2</td>\n",
       "      <td>A191</td>\n",
       "      <td>A201</td>\n",
       "      <td>1</td>\n",
       "    </tr>\n",
       "    <tr>\n",
       "      <th>3</th>\n",
       "      <td>A11</td>\n",
       "      <td>42</td>\n",
       "      <td>A32</td>\n",
       "      <td>A42</td>\n",
       "      <td>7882</td>\n",
       "      <td>A61</td>\n",
       "      <td>A74</td>\n",
       "      <td>2</td>\n",
       "      <td>A93</td>\n",
       "      <td>A103</td>\n",
       "      <td>...</td>\n",
       "      <td>A122</td>\n",
       "      <td>45</td>\n",
       "      <td>A143</td>\n",
       "      <td>A153</td>\n",
       "      <td>1</td>\n",
       "      <td>A173</td>\n",
       "      <td>2</td>\n",
       "      <td>A191</td>\n",
       "      <td>A201</td>\n",
       "      <td>1</td>\n",
       "    </tr>\n",
       "    <tr>\n",
       "      <th>4</th>\n",
       "      <td>A11</td>\n",
       "      <td>24</td>\n",
       "      <td>A33</td>\n",
       "      <td>A40</td>\n",
       "      <td>4870</td>\n",
       "      <td>A61</td>\n",
       "      <td>A73</td>\n",
       "      <td>3</td>\n",
       "      <td>A93</td>\n",
       "      <td>A101</td>\n",
       "      <td>...</td>\n",
       "      <td>A124</td>\n",
       "      <td>53</td>\n",
       "      <td>A143</td>\n",
       "      <td>A153</td>\n",
       "      <td>2</td>\n",
       "      <td>A173</td>\n",
       "      <td>2</td>\n",
       "      <td>A191</td>\n",
       "      <td>A201</td>\n",
       "      <td>2</td>\n",
       "    </tr>\n",
       "    <tr>\n",
       "      <th>...</th>\n",
       "      <td>...</td>\n",
       "      <td>...</td>\n",
       "      <td>...</td>\n",
       "      <td>...</td>\n",
       "      <td>...</td>\n",
       "      <td>...</td>\n",
       "      <td>...</td>\n",
       "      <td>...</td>\n",
       "      <td>...</td>\n",
       "      <td>...</td>\n",
       "      <td>...</td>\n",
       "      <td>...</td>\n",
       "      <td>...</td>\n",
       "      <td>...</td>\n",
       "      <td>...</td>\n",
       "      <td>...</td>\n",
       "      <td>...</td>\n",
       "      <td>...</td>\n",
       "      <td>...</td>\n",
       "      <td>...</td>\n",
       "      <td>...</td>\n",
       "    </tr>\n",
       "    <tr>\n",
       "      <th>995</th>\n",
       "      <td>A14</td>\n",
       "      <td>12</td>\n",
       "      <td>A32</td>\n",
       "      <td>A42</td>\n",
       "      <td>1736</td>\n",
       "      <td>A61</td>\n",
       "      <td>A74</td>\n",
       "      <td>3</td>\n",
       "      <td>A92</td>\n",
       "      <td>A101</td>\n",
       "      <td>...</td>\n",
       "      <td>A121</td>\n",
       "      <td>31</td>\n",
       "      <td>A143</td>\n",
       "      <td>A152</td>\n",
       "      <td>1</td>\n",
       "      <td>A172</td>\n",
       "      <td>1</td>\n",
       "      <td>A191</td>\n",
       "      <td>A201</td>\n",
       "      <td>1</td>\n",
       "    </tr>\n",
       "    <tr>\n",
       "      <th>996</th>\n",
       "      <td>A11</td>\n",
       "      <td>30</td>\n",
       "      <td>A32</td>\n",
       "      <td>A41</td>\n",
       "      <td>3857</td>\n",
       "      <td>A61</td>\n",
       "      <td>A73</td>\n",
       "      <td>4</td>\n",
       "      <td>A91</td>\n",
       "      <td>A101</td>\n",
       "      <td>...</td>\n",
       "      <td>A122</td>\n",
       "      <td>40</td>\n",
       "      <td>A143</td>\n",
       "      <td>A152</td>\n",
       "      <td>1</td>\n",
       "      <td>A174</td>\n",
       "      <td>1</td>\n",
       "      <td>A192</td>\n",
       "      <td>A201</td>\n",
       "      <td>1</td>\n",
       "    </tr>\n",
       "    <tr>\n",
       "      <th>997</th>\n",
       "      <td>A14</td>\n",
       "      <td>12</td>\n",
       "      <td>A32</td>\n",
       "      <td>A43</td>\n",
       "      <td>804</td>\n",
       "      <td>A61</td>\n",
       "      <td>A75</td>\n",
       "      <td>4</td>\n",
       "      <td>A93</td>\n",
       "      <td>A101</td>\n",
       "      <td>...</td>\n",
       "      <td>A123</td>\n",
       "      <td>38</td>\n",
       "      <td>A143</td>\n",
       "      <td>A152</td>\n",
       "      <td>1</td>\n",
       "      <td>A173</td>\n",
       "      <td>1</td>\n",
       "      <td>A191</td>\n",
       "      <td>A201</td>\n",
       "      <td>1</td>\n",
       "    </tr>\n",
       "    <tr>\n",
       "      <th>998</th>\n",
       "      <td>A11</td>\n",
       "      <td>45</td>\n",
       "      <td>A32</td>\n",
       "      <td>A43</td>\n",
       "      <td>1845</td>\n",
       "      <td>A61</td>\n",
       "      <td>A73</td>\n",
       "      <td>4</td>\n",
       "      <td>A93</td>\n",
       "      <td>A101</td>\n",
       "      <td>...</td>\n",
       "      <td>A124</td>\n",
       "      <td>23</td>\n",
       "      <td>A143</td>\n",
       "      <td>A153</td>\n",
       "      <td>1</td>\n",
       "      <td>A173</td>\n",
       "      <td>1</td>\n",
       "      <td>A192</td>\n",
       "      <td>A201</td>\n",
       "      <td>2</td>\n",
       "    </tr>\n",
       "    <tr>\n",
       "      <th>999</th>\n",
       "      <td>A12</td>\n",
       "      <td>45</td>\n",
       "      <td>A34</td>\n",
       "      <td>A41</td>\n",
       "      <td>4576</td>\n",
       "      <td>A62</td>\n",
       "      <td>A71</td>\n",
       "      <td>3</td>\n",
       "      <td>A93</td>\n",
       "      <td>A101</td>\n",
       "      <td>...</td>\n",
       "      <td>A123</td>\n",
       "      <td>27</td>\n",
       "      <td>A143</td>\n",
       "      <td>A152</td>\n",
       "      <td>1</td>\n",
       "      <td>A173</td>\n",
       "      <td>1</td>\n",
       "      <td>A191</td>\n",
       "      <td>A201</td>\n",
       "      <td>1</td>\n",
       "    </tr>\n",
       "  </tbody>\n",
       "</table>\n",
       "<p>1000 rows × 21 columns</p>\n",
       "</div>"
      ],
      "text/plain": [
       "      0   1    2    3     4    5    6   7    8     9   ...    11  12    13  \\\n",
       "0    A11   6  A34  A43  1169  A65  A75   4  A93  A101  ...  A121  67  A143   \n",
       "1    A12  48  A32  A43  5951  A61  A73   2  A92  A101  ...  A121  22  A143   \n",
       "2    A14  12  A34  A46  2096  A61  A74   2  A93  A101  ...  A121  49  A143   \n",
       "3    A11  42  A32  A42  7882  A61  A74   2  A93  A103  ...  A122  45  A143   \n",
       "4    A11  24  A33  A40  4870  A61  A73   3  A93  A101  ...  A124  53  A143   \n",
       "..   ...  ..  ...  ...   ...  ...  ...  ..  ...   ...  ...   ...  ..   ...   \n",
       "995  A14  12  A32  A42  1736  A61  A74   3  A92  A101  ...  A121  31  A143   \n",
       "996  A11  30  A32  A41  3857  A61  A73   4  A91  A101  ...  A122  40  A143   \n",
       "997  A14  12  A32  A43   804  A61  A75   4  A93  A101  ...  A123  38  A143   \n",
       "998  A11  45  A32  A43  1845  A61  A73   4  A93  A101  ...  A124  23  A143   \n",
       "999  A12  45  A34  A41  4576  A62  A71   3  A93  A101  ...  A123  27  A143   \n",
       "\n",
       "       14 15    16 17    18    19 20  \n",
       "0    A152  2  A173  1  A192  A201  1  \n",
       "1    A152  1  A173  1  A191  A201  2  \n",
       "2    A152  1  A172  2  A191  A201  1  \n",
       "3    A153  1  A173  2  A191  A201  1  \n",
       "4    A153  2  A173  2  A191  A201  2  \n",
       "..    ... ..   ... ..   ...   ... ..  \n",
       "995  A152  1  A172  1  A191  A201  1  \n",
       "996  A152  1  A174  1  A192  A201  1  \n",
       "997  A152  1  A173  1  A191  A201  1  \n",
       "998  A153  1  A173  1  A192  A201  2  \n",
       "999  A152  1  A173  1  A191  A201  1  \n",
       "\n",
       "[1000 rows x 21 columns]"
      ]
     },
     "execution_count": 14,
     "metadata": {},
     "output_type": "execute_result"
    }
   ],
   "source": [
    "german = pd.read_csv(\"german.data\", sep = ' ', header=None)\n",
    "german"
   ]
  },
  {
   "cell_type": "markdown",
   "metadata": {},
   "source": [
    "> ### 2.\n",
    "Creez le dictionnaire `{1: \"durée\", 4:\"montant\"}` et utilisez le dans la commande `german.rename()` pour renommer les colonnes correspondantes."
   ]
  },
  {
   "cell_type": "code",
   "execution_count": 15,
   "metadata": {},
   "outputs": [
    {
     "data": {
      "text/html": [
       "<div>\n",
       "<style scoped>\n",
       "    .dataframe tbody tr th:only-of-type {\n",
       "        vertical-align: middle;\n",
       "    }\n",
       "\n",
       "    .dataframe tbody tr th {\n",
       "        vertical-align: top;\n",
       "    }\n",
       "\n",
       "    .dataframe thead th {\n",
       "        text-align: right;\n",
       "    }\n",
       "</style>\n",
       "<table border=\"1\" class=\"dataframe\">\n",
       "  <thead>\n",
       "    <tr style=\"text-align: right;\">\n",
       "      <th></th>\n",
       "      <th>0</th>\n",
       "      <th>durée</th>\n",
       "      <th>2</th>\n",
       "      <th>3</th>\n",
       "      <th>montant</th>\n",
       "      <th>5</th>\n",
       "      <th>6</th>\n",
       "      <th>7</th>\n",
       "      <th>8</th>\n",
       "      <th>9</th>\n",
       "      <th>...</th>\n",
       "      <th>11</th>\n",
       "      <th>12</th>\n",
       "      <th>13</th>\n",
       "      <th>14</th>\n",
       "      <th>15</th>\n",
       "      <th>16</th>\n",
       "      <th>17</th>\n",
       "      <th>18</th>\n",
       "      <th>19</th>\n",
       "      <th>20</th>\n",
       "    </tr>\n",
       "  </thead>\n",
       "  <tbody>\n",
       "    <tr>\n",
       "      <th>0</th>\n",
       "      <td>A11</td>\n",
       "      <td>6</td>\n",
       "      <td>A34</td>\n",
       "      <td>A43</td>\n",
       "      <td>1169</td>\n",
       "      <td>A65</td>\n",
       "      <td>A75</td>\n",
       "      <td>4</td>\n",
       "      <td>A93</td>\n",
       "      <td>A101</td>\n",
       "      <td>...</td>\n",
       "      <td>A121</td>\n",
       "      <td>67</td>\n",
       "      <td>A143</td>\n",
       "      <td>A152</td>\n",
       "      <td>2</td>\n",
       "      <td>A173</td>\n",
       "      <td>1</td>\n",
       "      <td>A192</td>\n",
       "      <td>A201</td>\n",
       "      <td>1</td>\n",
       "    </tr>\n",
       "    <tr>\n",
       "      <th>1</th>\n",
       "      <td>A12</td>\n",
       "      <td>48</td>\n",
       "      <td>A32</td>\n",
       "      <td>A43</td>\n",
       "      <td>5951</td>\n",
       "      <td>A61</td>\n",
       "      <td>A73</td>\n",
       "      <td>2</td>\n",
       "      <td>A92</td>\n",
       "      <td>A101</td>\n",
       "      <td>...</td>\n",
       "      <td>A121</td>\n",
       "      <td>22</td>\n",
       "      <td>A143</td>\n",
       "      <td>A152</td>\n",
       "      <td>1</td>\n",
       "      <td>A173</td>\n",
       "      <td>1</td>\n",
       "      <td>A191</td>\n",
       "      <td>A201</td>\n",
       "      <td>2</td>\n",
       "    </tr>\n",
       "    <tr>\n",
       "      <th>2</th>\n",
       "      <td>A14</td>\n",
       "      <td>12</td>\n",
       "      <td>A34</td>\n",
       "      <td>A46</td>\n",
       "      <td>2096</td>\n",
       "      <td>A61</td>\n",
       "      <td>A74</td>\n",
       "      <td>2</td>\n",
       "      <td>A93</td>\n",
       "      <td>A101</td>\n",
       "      <td>...</td>\n",
       "      <td>A121</td>\n",
       "      <td>49</td>\n",
       "      <td>A143</td>\n",
       "      <td>A152</td>\n",
       "      <td>1</td>\n",
       "      <td>A172</td>\n",
       "      <td>2</td>\n",
       "      <td>A191</td>\n",
       "      <td>A201</td>\n",
       "      <td>1</td>\n",
       "    </tr>\n",
       "    <tr>\n",
       "      <th>3</th>\n",
       "      <td>A11</td>\n",
       "      <td>42</td>\n",
       "      <td>A32</td>\n",
       "      <td>A42</td>\n",
       "      <td>7882</td>\n",
       "      <td>A61</td>\n",
       "      <td>A74</td>\n",
       "      <td>2</td>\n",
       "      <td>A93</td>\n",
       "      <td>A103</td>\n",
       "      <td>...</td>\n",
       "      <td>A122</td>\n",
       "      <td>45</td>\n",
       "      <td>A143</td>\n",
       "      <td>A153</td>\n",
       "      <td>1</td>\n",
       "      <td>A173</td>\n",
       "      <td>2</td>\n",
       "      <td>A191</td>\n",
       "      <td>A201</td>\n",
       "      <td>1</td>\n",
       "    </tr>\n",
       "    <tr>\n",
       "      <th>4</th>\n",
       "      <td>A11</td>\n",
       "      <td>24</td>\n",
       "      <td>A33</td>\n",
       "      <td>A40</td>\n",
       "      <td>4870</td>\n",
       "      <td>A61</td>\n",
       "      <td>A73</td>\n",
       "      <td>3</td>\n",
       "      <td>A93</td>\n",
       "      <td>A101</td>\n",
       "      <td>...</td>\n",
       "      <td>A124</td>\n",
       "      <td>53</td>\n",
       "      <td>A143</td>\n",
       "      <td>A153</td>\n",
       "      <td>2</td>\n",
       "      <td>A173</td>\n",
       "      <td>2</td>\n",
       "      <td>A191</td>\n",
       "      <td>A201</td>\n",
       "      <td>2</td>\n",
       "    </tr>\n",
       "    <tr>\n",
       "      <th>...</th>\n",
       "      <td>...</td>\n",
       "      <td>...</td>\n",
       "      <td>...</td>\n",
       "      <td>...</td>\n",
       "      <td>...</td>\n",
       "      <td>...</td>\n",
       "      <td>...</td>\n",
       "      <td>...</td>\n",
       "      <td>...</td>\n",
       "      <td>...</td>\n",
       "      <td>...</td>\n",
       "      <td>...</td>\n",
       "      <td>...</td>\n",
       "      <td>...</td>\n",
       "      <td>...</td>\n",
       "      <td>...</td>\n",
       "      <td>...</td>\n",
       "      <td>...</td>\n",
       "      <td>...</td>\n",
       "      <td>...</td>\n",
       "      <td>...</td>\n",
       "    </tr>\n",
       "    <tr>\n",
       "      <th>995</th>\n",
       "      <td>A14</td>\n",
       "      <td>12</td>\n",
       "      <td>A32</td>\n",
       "      <td>A42</td>\n",
       "      <td>1736</td>\n",
       "      <td>A61</td>\n",
       "      <td>A74</td>\n",
       "      <td>3</td>\n",
       "      <td>A92</td>\n",
       "      <td>A101</td>\n",
       "      <td>...</td>\n",
       "      <td>A121</td>\n",
       "      <td>31</td>\n",
       "      <td>A143</td>\n",
       "      <td>A152</td>\n",
       "      <td>1</td>\n",
       "      <td>A172</td>\n",
       "      <td>1</td>\n",
       "      <td>A191</td>\n",
       "      <td>A201</td>\n",
       "      <td>1</td>\n",
       "    </tr>\n",
       "    <tr>\n",
       "      <th>996</th>\n",
       "      <td>A11</td>\n",
       "      <td>30</td>\n",
       "      <td>A32</td>\n",
       "      <td>A41</td>\n",
       "      <td>3857</td>\n",
       "      <td>A61</td>\n",
       "      <td>A73</td>\n",
       "      <td>4</td>\n",
       "      <td>A91</td>\n",
       "      <td>A101</td>\n",
       "      <td>...</td>\n",
       "      <td>A122</td>\n",
       "      <td>40</td>\n",
       "      <td>A143</td>\n",
       "      <td>A152</td>\n",
       "      <td>1</td>\n",
       "      <td>A174</td>\n",
       "      <td>1</td>\n",
       "      <td>A192</td>\n",
       "      <td>A201</td>\n",
       "      <td>1</td>\n",
       "    </tr>\n",
       "    <tr>\n",
       "      <th>997</th>\n",
       "      <td>A14</td>\n",
       "      <td>12</td>\n",
       "      <td>A32</td>\n",
       "      <td>A43</td>\n",
       "      <td>804</td>\n",
       "      <td>A61</td>\n",
       "      <td>A75</td>\n",
       "      <td>4</td>\n",
       "      <td>A93</td>\n",
       "      <td>A101</td>\n",
       "      <td>...</td>\n",
       "      <td>A123</td>\n",
       "      <td>38</td>\n",
       "      <td>A143</td>\n",
       "      <td>A152</td>\n",
       "      <td>1</td>\n",
       "      <td>A173</td>\n",
       "      <td>1</td>\n",
       "      <td>A191</td>\n",
       "      <td>A201</td>\n",
       "      <td>1</td>\n",
       "    </tr>\n",
       "    <tr>\n",
       "      <th>998</th>\n",
       "      <td>A11</td>\n",
       "      <td>45</td>\n",
       "      <td>A32</td>\n",
       "      <td>A43</td>\n",
       "      <td>1845</td>\n",
       "      <td>A61</td>\n",
       "      <td>A73</td>\n",
       "      <td>4</td>\n",
       "      <td>A93</td>\n",
       "      <td>A101</td>\n",
       "      <td>...</td>\n",
       "      <td>A124</td>\n",
       "      <td>23</td>\n",
       "      <td>A143</td>\n",
       "      <td>A153</td>\n",
       "      <td>1</td>\n",
       "      <td>A173</td>\n",
       "      <td>1</td>\n",
       "      <td>A192</td>\n",
       "      <td>A201</td>\n",
       "      <td>2</td>\n",
       "    </tr>\n",
       "    <tr>\n",
       "      <th>999</th>\n",
       "      <td>A12</td>\n",
       "      <td>45</td>\n",
       "      <td>A34</td>\n",
       "      <td>A41</td>\n",
       "      <td>4576</td>\n",
       "      <td>A62</td>\n",
       "      <td>A71</td>\n",
       "      <td>3</td>\n",
       "      <td>A93</td>\n",
       "      <td>A101</td>\n",
       "      <td>...</td>\n",
       "      <td>A123</td>\n",
       "      <td>27</td>\n",
       "      <td>A143</td>\n",
       "      <td>A152</td>\n",
       "      <td>1</td>\n",
       "      <td>A173</td>\n",
       "      <td>1</td>\n",
       "      <td>A191</td>\n",
       "      <td>A201</td>\n",
       "      <td>1</td>\n",
       "    </tr>\n",
       "  </tbody>\n",
       "</table>\n",
       "<p>1000 rows × 21 columns</p>\n",
       "</div>"
      ],
      "text/plain": [
       "       0  durée    2    3  montant    5    6  7    8     9  ...    11  12  \\\n",
       "0    A11      6  A34  A43     1169  A65  A75  4  A93  A101  ...  A121  67   \n",
       "1    A12     48  A32  A43     5951  A61  A73  2  A92  A101  ...  A121  22   \n",
       "2    A14     12  A34  A46     2096  A61  A74  2  A93  A101  ...  A121  49   \n",
       "3    A11     42  A32  A42     7882  A61  A74  2  A93  A103  ...  A122  45   \n",
       "4    A11     24  A33  A40     4870  A61  A73  3  A93  A101  ...  A124  53   \n",
       "..   ...    ...  ...  ...      ...  ...  ... ..  ...   ...  ...   ...  ..   \n",
       "995  A14     12  A32  A42     1736  A61  A74  3  A92  A101  ...  A121  31   \n",
       "996  A11     30  A32  A41     3857  A61  A73  4  A91  A101  ...  A122  40   \n",
       "997  A14     12  A32  A43      804  A61  A75  4  A93  A101  ...  A123  38   \n",
       "998  A11     45  A32  A43     1845  A61  A73  4  A93  A101  ...  A124  23   \n",
       "999  A12     45  A34  A41     4576  A62  A71  3  A93  A101  ...  A123  27   \n",
       "\n",
       "       13    14 15    16 17    18    19 20  \n",
       "0    A143  A152  2  A173  1  A192  A201  1  \n",
       "1    A143  A152  1  A173  1  A191  A201  2  \n",
       "2    A143  A152  1  A172  2  A191  A201  1  \n",
       "3    A143  A153  1  A173  2  A191  A201  1  \n",
       "4    A143  A153  2  A173  2  A191  A201  2  \n",
       "..    ...   ... ..   ... ..   ...   ... ..  \n",
       "995  A143  A152  1  A172  1  A191  A201  1  \n",
       "996  A143  A152  1  A174  1  A192  A201  1  \n",
       "997  A143  A152  1  A173  1  A191  A201  1  \n",
       "998  A143  A153  1  A173  1  A192  A201  2  \n",
       "999  A143  A152  1  A173  1  A191  A201  1  \n",
       "\n",
       "[1000 rows x 21 columns]"
      ]
     },
     "execution_count": 15,
     "metadata": {},
     "output_type": "execute_result"
    }
   ],
   "source": [
    "german = german.rename({1: \"durée\", 4:\"montant\"}, axis=1)\n",
    "german"
   ]
  },
  {
   "cell_type": "markdown",
   "metadata": {},
   "source": [
    "> ### 3.\n",
    "Utilisez la commade `describe` de pandas pour obtenir des premières informations sur la durée et les montants du crédit"
   ]
  },
  {
   "cell_type": "code",
   "execution_count": 16,
   "metadata": {},
   "outputs": [
    {
     "data": {
      "text/html": [
       "<div>\n",
       "<style scoped>\n",
       "    .dataframe tbody tr th:only-of-type {\n",
       "        vertical-align: middle;\n",
       "    }\n",
       "\n",
       "    .dataframe tbody tr th {\n",
       "        vertical-align: top;\n",
       "    }\n",
       "\n",
       "    .dataframe thead th {\n",
       "        text-align: right;\n",
       "    }\n",
       "</style>\n",
       "<table border=\"1\" class=\"dataframe\">\n",
       "  <thead>\n",
       "    <tr style=\"text-align: right;\">\n",
       "      <th></th>\n",
       "      <th>durée</th>\n",
       "      <th>montant</th>\n",
       "    </tr>\n",
       "  </thead>\n",
       "  <tbody>\n",
       "    <tr>\n",
       "      <th>count</th>\n",
       "      <td>1000.000000</td>\n",
       "      <td>1000.000000</td>\n",
       "    </tr>\n",
       "    <tr>\n",
       "      <th>mean</th>\n",
       "      <td>20.903000</td>\n",
       "      <td>3271.258000</td>\n",
       "    </tr>\n",
       "    <tr>\n",
       "      <th>std</th>\n",
       "      <td>12.058814</td>\n",
       "      <td>2822.736876</td>\n",
       "    </tr>\n",
       "    <tr>\n",
       "      <th>min</th>\n",
       "      <td>4.000000</td>\n",
       "      <td>250.000000</td>\n",
       "    </tr>\n",
       "    <tr>\n",
       "      <th>25%</th>\n",
       "      <td>12.000000</td>\n",
       "      <td>1365.500000</td>\n",
       "    </tr>\n",
       "    <tr>\n",
       "      <th>50%</th>\n",
       "      <td>18.000000</td>\n",
       "      <td>2319.500000</td>\n",
       "    </tr>\n",
       "    <tr>\n",
       "      <th>75%</th>\n",
       "      <td>24.000000</td>\n",
       "      <td>3972.250000</td>\n",
       "    </tr>\n",
       "    <tr>\n",
       "      <th>max</th>\n",
       "      <td>72.000000</td>\n",
       "      <td>18424.000000</td>\n",
       "    </tr>\n",
       "  </tbody>\n",
       "</table>\n",
       "</div>"
      ],
      "text/plain": [
       "             durée       montant\n",
       "count  1000.000000   1000.000000\n",
       "mean     20.903000   3271.258000\n",
       "std      12.058814   2822.736876\n",
       "min       4.000000    250.000000\n",
       "25%      12.000000   1365.500000\n",
       "50%      18.000000   2319.500000\n",
       "75%      24.000000   3972.250000\n",
       "max      72.000000  18424.000000"
      ]
     },
     "execution_count": 16,
     "metadata": {},
     "output_type": "execute_result"
    }
   ],
   "source": [
    "german[[\"durée\", \"montant\"]].describe()"
   ]
  },
  {
   "cell_type": "markdown",
   "metadata": {},
   "source": [
    "> ### 4.\n",
    "Utilisez la commande `german.boxplot()` pour créez une boite à moustache de la variable durée.\n",
    "    Faire de même pour la variable montant."
   ]
  },
  {
   "cell_type": "code",
   "execution_count": 17,
   "metadata": {},
   "outputs": [
    {
     "data": {
      "text/plain": [
       "<Axes: >"
      ]
     },
     "execution_count": 17,
     "metadata": {},
     "output_type": "execute_result"
    },
    {
     "data": {
      "image/png": "[encoded data removed]",
      "text/plain": [
       "<Figure size 640x480 with 1 Axes>"
      ]
     },
     "metadata": {},
     "output_type": "display_data"
    }
   ],
   "source": [
    "german.boxplot(\"durée\")"
   ]
  },
  {
   "cell_type": "code",
   "execution_count": 18,
   "metadata": {},
   "outputs": [
    {
     "data": {
      "text/plain": [
       "<Axes: >"
      ]
     },
     "execution_count": 18,
     "metadata": {},
     "output_type": "execute_result"
    },
    {
     "data": {
      "image/png": "[encoded data removed]",
      "text/plain": [
       "<Figure size 640x480 with 1 Axes>"
      ]
     },
     "metadata": {},
     "output_type": "display_data"
    }
   ],
   "source": [
    "german.boxplot(\"montant\")"
   ]
  },
  {
   "cell_type": "markdown",
   "metadata": {},
   "source": [
    "> ### 5. \n",
    "Faire la question précedente en utilisant le module seaborn: `sns.boxplot`"
   ]
  },
  {
   "cell_type": "code",
   "execution_count": 19,
   "metadata": {},
   "outputs": [
    {
     "data": {
      "text/plain": [
       "<Axes: xlabel='durée'>"
      ]
     },
     "execution_count": 19,
     "metadata": {},
     "output_type": "execute_result"
    },
    {
     "data": {
      "image/png": "[encoded data removed]",
      "text/plain": [
       "<Figure size 640x480 with 1 Axes>"
      ]
     },
     "metadata": {},
     "output_type": "display_data"
    }
   ],
   "source": [
    "sns.boxplot(x=\"durée\", data=german)"
   ]
  },
  {
   "cell_type": "code",
   "execution_count": 20,
   "metadata": {},
   "outputs": [
    {
     "data": {
      "text/plain": [
       "<Axes: xlabel='montant'>"
      ]
     },
     "execution_count": 20,
     "metadata": {},
     "output_type": "execute_result"
    },
    {
     "data": {
      "image/png": "[encoded data removed]",
      "text/plain": [
       "<Figure size 640x480 with 1 Axes>"
      ]
     },
     "metadata": {},
     "output_type": "display_data"
    }
   ],
   "source": [
    "sns.boxplot(x=\"montant\", data=german)"
   ]
  },
  {
   "cell_type": "markdown",
   "metadata": {},
   "source": [
    "> ### 7. \n",
    "Utilisez la commande `german.hist` pour tracer un histograme des variables durées et montant"
   ]
  },
  {
   "cell_type": "code",
   "execution_count": 21,
   "metadata": {},
   "outputs": [
    {
     "data": {
      "text/plain": [
       "array([[<Axes: title={'center': 'durée'}>]], dtype=object)"
      ]
     },
     "execution_count": 21,
     "metadata": {},
     "output_type": "execute_result"
    },
    {
     "data": {
      "image/png": "[encoded data removed]",
      "text/plain": [
       "<Figure size 640x480 with 1 Axes>"
      ]
     },
     "metadata": {},
     "output_type": "display_data"
    }
   ],
   "source": [
    "german.hist(\"durée\")"
   ]
  },
  {
   "cell_type": "code",
   "execution_count": 22,
   "metadata": {},
   "outputs": [
    {
     "data": {
      "text/plain": [
       "array([[<Axes: title={'center': 'montant'}>]], dtype=object)"
      ]
     },
     "execution_count": 22,
     "metadata": {},
     "output_type": "execute_result"
    },
    {
     "data": {
      "image/png": "[encoded data removed]",
      "text/plain": [
       "<Figure size 640x480 with 1 Axes>"
      ]
     },
     "metadata": {},
     "output_type": "display_data"
    }
   ],
   "source": [
    "german.hist(\"montant\")"
   ]
  },
  {
   "cell_type": "markdown",
   "metadata": {},
   "source": [
    "> ### 8. \n",
    "Utilisez la commande `german.plot.scatter` pour tracer le scatter plot des variable \"durée\" et \"montant\""
   ]
  },
  {
   "cell_type": "code",
   "execution_count": 23,
   "metadata": {},
   "outputs": [
    {
     "data": {
      "text/plain": [
       "<Axes: xlabel='durée', ylabel='montant'>"
      ]
     },
     "execution_count": 23,
     "metadata": {},
     "output_type": "execute_result"
    },
    {
     "data": {
      "image/png": "[encoded data removed]",
      "text/plain": [
       "<Figure size 640x480 with 1 Axes>"
      ]
     },
     "metadata": {},
     "output_type": "display_data"
    }
   ],
   "source": [
    "#y = [i for i in range(0,70)]\n",
    "#german.plot.scatter(german[\"durée\"], german[\"durée\"])\n",
    "german.plot.scatter(x='durée', y='montant')"
   ]
  },
  {
   "cell_type": "markdown",
   "metadata": {},
   "source": [
    "> ### 9.\n",
    "Tracez la table de correlations entre \"durée\" et \"montant\" à l'aide de la commande `german[].corr()` (pensez à selectionner les bonnes colonnes)."
   ]
  },
  {
   "cell_type": "code",
   "execution_count": 24,
   "metadata": {},
   "outputs": [
    {
     "data": {
      "text/html": [
       "<div>\n",
       "<style scoped>\n",
       "    .dataframe tbody tr th:only-of-type {\n",
       "        vertical-align: middle;\n",
       "    }\n",
       "\n",
       "    .dataframe tbody tr th {\n",
       "        vertical-align: top;\n",
       "    }\n",
       "\n",
       "    .dataframe thead th {\n",
       "        text-align: right;\n",
       "    }\n",
       "</style>\n",
       "<table border=\"1\" class=\"dataframe\">\n",
       "  <thead>\n",
       "    <tr style=\"text-align: right;\">\n",
       "      <th></th>\n",
       "      <th>durée</th>\n",
       "      <th>montant</th>\n",
       "    </tr>\n",
       "  </thead>\n",
       "  <tbody>\n",
       "    <tr>\n",
       "      <th>durée</th>\n",
       "      <td>1.000000</td>\n",
       "      <td>0.624984</td>\n",
       "    </tr>\n",
       "    <tr>\n",
       "      <th>montant</th>\n",
       "      <td>0.624984</td>\n",
       "      <td>1.000000</td>\n",
       "    </tr>\n",
       "  </tbody>\n",
       "</table>\n",
       "</div>"
      ],
      "text/plain": [
       "            durée   montant\n",
       "durée    1.000000  0.624984\n",
       "montant  0.624984  1.000000"
      ]
     },
     "execution_count": 24,
     "metadata": {},
     "output_type": "execute_result"
    }
   ],
   "source": [
    "german[[\"durée\", \"montant\"]].corr()"
   ]
  },
  {
   "cell_type": "markdown",
   "metadata": {},
   "source": [
    "> ### 10.\n",
    "Utilisez `stat.pearsonr` pour tester la correlation entre les deux variables (voir chapitre 4 pour ce test). Que peut-on en conclure?"
   ]
  },
  {
   "cell_type": "code",
   "execution_count": 25,
   "metadata": {},
   "outputs": [],
   "source": [
    "# Calcul de la corrélation de Pearson\n",
    "correlation_coefficient, p_value = stat.pearsonr(german['durée'], german['montant'])"
   ]
  },
  {
   "cell_type": "code",
   "execution_count": 26,
   "metadata": {},
   "outputs": [
    {
     "data": {
      "text/plain": [
       "(0.6249841983009814, 1.8628512880506277e-109)"
      ]
     },
     "execution_count": 26,
     "metadata": {},
     "output_type": "execute_result"
    }
   ],
   "source": [
    "correlation_coefficient, p_value"
   ]
  },
  {
   "cell_type": "markdown",
   "metadata": {},
   "source": [
    "Le coefficient de corrélation de Pearson est positif (0.625) donc il existe une corrélation positive entre les variables \"durée\" et \"montant\". Cela signifie que, en général, à mesure que la durée augmente, le montant a tendance à augmenter également.\n",
    "\n",
    "La valeur p très proche de zéro (1.8628512880506277e-109), cela signifie que la probabilité d'observer une corrélation aussi extrême (ou plus extrême) entre la durée et le montant par pure chance est pratiquement nulle. Par conséquent, on peut rejeter l'hypothèse nulle selon laquelle il n'y a pas de corrélation dans la population.\n",
    "\n"
   ]
  },
  {
   "cell_type": "markdown",
   "metadata": {},
   "source": [
    "# Exercice 3: Simulation d'un jeu de données\n",
    "\n",
    ">### 1. \n",
    "Quel est l'effet de la commande suivante?"
   ]
  },
  {
   "cell_type": "code",
   "execution_count": 27,
   "metadata": {},
   "outputs": [
    {
     "name": "stdout",
     "output_type": "stream",
     "text": [
      "0 :  0.591537642189901\n",
      "1 :  0.6500522684977095\n",
      "2 :  [[0.84602649 0.5219132  0.06443226]\n",
      " [0.59137465 0.412682   0.8557081 ]]\n"
     ]
    }
   ],
   "source": [
    "for i in range(3):\n",
    "    if i<2:\n",
    "        print(i, \": \", np.random.rand())\n",
    "    else:\n",
    "        print(i, \": \", np.random.rand(2,3))"
   ]
  },
  {
   "cell_type": "markdown",
   "metadata": {},
   "source": [
    "L'effet de cette commande est de parcourir les nombres allant de 0 à 2 inclut. Si le nombre est inférieur strictement à 2, la commande affaiche un nombre aléatoire flotant entre 0 et 1. Si le nombre vaut 2, la commande affiche un tableau de 2 lignes et 3 colonnes comprenant des nombres aléatoires flotants entre 0 et 1.\n"
   ]
  },
  {
   "cell_type": "markdown",
   "metadata": {},
   "source": [
    ">### 2. \n",
    "Commentez la différence avec la question précédente.\n",
    "(essayez d'executer la cellule plusieurs fois de suite)"
   ]
  },
  {
   "cell_type": "code",
   "execution_count": 28,
   "metadata": {},
   "outputs": [
    {
     "name": "stdout",
     "output_type": "stream",
     "text": [
      "0 :  0.5488135039273248\n",
      "1 :  0.7151893663724195\n",
      "2 :  [[0.60276338 0.54488318 0.4236548 ]\n",
      " [0.64589411 0.43758721 0.891773  ]]\n"
     ]
    }
   ],
   "source": [
    "np.random.seed(0)\n",
    "for i in range(3):\n",
    "    if i<2:\n",
    "        print(i, \": \", np.random.rand())\n",
    "    else:\n",
    "        print(i, \": \", np.random.rand(2,3))"
   ]
  },
  {
   "cell_type": "markdown",
   "metadata": {},
   "source": [
    "La différence avec la cellule qui précède est que l'initialisation de l'algorithme est fixée, donc à chaque fois que l'on execute la cellule, les nombres aléatoires sont respectivement les mêmes. Contrairement à la cellule précédente, où ils varient aléatoirement à chaque fois que l'on exécute la cellule."
   ]
  },
  {
   "cell_type": "markdown",
   "metadata": {},
   "source": [
    "> ### 3. \n",
    "Sauvegardez dans une variable \"simul\" un échantillon de 100 valeurs aléatoires, chacune tirée uniformément dans [0,1].\n",
    "\n",
    ">Tracez son histogramme avec la commande plt.hist"
   ]
  },
  {
   "cell_type": "code",
   "execution_count": 29,
   "metadata": {},
   "outputs": [
    {
     "data": {
      "text/plain": [
       "(array([13., 12., 11.,  7.,  8., 12., 13.,  7.,  7., 10.]),\n",
       " array([0.00469548, 0.10306331, 0.20143115, 0.29979898, 0.39816682,\n",
       "        0.49653466, 0.59490249, 0.69327033, 0.79163817, 0.890006  ,\n",
       "        0.98837384]),\n",
       " <BarContainer object of 10 artists>)"
      ]
     },
     "execution_count": 29,
     "metadata": {},
     "output_type": "execute_result"
    },
    {
     "data": {
      "image/png": "[encoded data removed]",
      "text/plain": [
       "<Figure size 640x480 with 1 Axes>"
      ]
     },
     "metadata": {},
     "output_type": "display_data"
    }
   ],
   "source": [
    "simul = np.random.rand(100)\n",
    "plt.hist(simul)"
   ]
  },
  {
   "cell_type": "markdown",
   "metadata": {},
   "source": [
    "\n",
    "> ### 4. \n",
    "Dans les commandes précédentes remplacez `rand` par `randn` et `exponential`. Qu'est ce qui change?"
   ]
  },
  {
   "cell_type": "code",
   "execution_count": 30,
   "metadata": {},
   "outputs": [
    {
     "data": {
      "text/plain": [
       "array([ 1.17877957, -0.17992484, -1.07075262,  1.05445173, -0.40317695,\n",
       "        1.22244507,  0.20827498,  0.97663904,  0.3563664 ,  0.70657317,\n",
       "        0.01050002,  1.78587049,  0.12691209,  0.40198936,  1.8831507 ,\n",
       "       -1.34775906, -1.270485  ,  0.96939671, -1.17312341,  1.94362119,\n",
       "       -0.41361898, -0.74745481,  1.92294203,  1.48051479,  1.86755896,\n",
       "        0.90604466, -0.86122569,  1.91006495, -0.26800337,  0.8024564 ,\n",
       "        0.94725197, -0.15501009,  0.61407937,  0.92220667,  0.37642553,\n",
       "       -1.09940079,  0.29823817,  1.3263859 , -0.69456786, -0.14963454,\n",
       "       -0.43515355,  1.84926373,  0.67229476,  0.40746184, -0.76991607,\n",
       "        0.53924919, -0.67433266,  0.03183056, -0.63584608,  0.67643329,\n",
       "        0.57659082, -0.20829876,  0.39600671, -1.09306151, -1.49125759,\n",
       "        0.4393917 ,  0.1666735 ,  0.63503144,  2.38314477,  0.94447949,\n",
       "       -0.91282223,  1.11701629, -1.31590741, -0.4615846 , -0.06824161,\n",
       "        1.71334272, -0.74475482, -0.82643854, -0.09845252, -0.66347829,\n",
       "        1.12663592, -1.07993151, -1.14746865, -0.43782004, -0.49803245,\n",
       "        1.92953205,  0.94942081,  0.08755124, -1.22543552,  0.84436298,\n",
       "       -1.00021535, -1.5447711 ,  1.18802979,  0.31694261,  0.92085882,\n",
       "        0.31872765,  0.85683061, -0.65102559, -1.03424284,  0.68159452,\n",
       "       -0.80340966, -0.68954978, -0.4555325 ,  0.01747916, -0.35399391,\n",
       "       -1.37495129, -0.6436184 , -2.22340315,  0.62523145, -1.60205766])"
      ]
     },
     "execution_count": 30,
     "metadata": {},
     "output_type": "execute_result"
    },
    {
     "data": {
      "image/png": "[encoded data removed]",
      "text/plain": [
       "<Figure size 640x480 with 1 Axes>"
      ]
     },
     "metadata": {},
     "output_type": "display_data"
    }
   ],
   "source": [
    "simul = np.random.randn(100)\n",
    "plt.hist(simul)\n",
    "simul"
   ]
  },
  {
   "cell_type": "code",
   "execution_count": 31,
   "metadata": {},
   "outputs": [
    {
     "data": {
      "text/plain": [
       "199.40392353206528"
      ]
     },
     "execution_count": 31,
     "metadata": {},
     "output_type": "execute_result"
    },
    {
     "data": {
      "image/png": "[encoded data removed]",
      "text/plain": [
       "<Figure size 640x480 with 1 Axes>"
      ]
     },
     "metadata": {},
     "output_type": "display_data"
    }
   ],
   "source": [
    "simul = np.random.exponential(100)\n",
    "plt.hist(simul)\n",
    "simul"
   ]
  },
  {
   "cell_type": "markdown",
   "metadata": {},
   "source": [
    "np.random.randn(100) renvoie une liste de 100 nombres aléatoires flotants entre -3 et 3\n",
    "np.random.exponential(100) un nombre aléatoire pour une distribution exponentielle de moyenne 100"
   ]
  },
  {
   "cell_type": "markdown",
   "metadata": {},
   "source": [
    "> ### 5. \n",
    "Simulez dans une variable `simul12`, 12 simulations (1 par ligne) de 1000 tirages d'une loi uniforme\n",
    " Utilisez la commande `np.sum` pour avoir une array de 1000 éléments qui somme les 12 tirages. Sauvegarder ce resultat dans une variable `simul_sum`.\n",
    "    Enfin tracez l'histogramme de `simul_sum`. De quoi s'aperçoit-on. Commentez."
   ]
  },
  {
   "cell_type": "code",
   "execution_count": 32,
   "metadata": {},
   "outputs": [
    {
     "data": {
      "text/plain": [
       "(array([ 1.,  3.,  2., 11., 15., 19., 27., 12.,  3.,  7.]),\n",
       " array([2.36079514, 2.99111512, 3.62143511, 4.2517551 , 4.88207509,\n",
       "        5.51239508, 6.14271507, 6.77303506, 7.40335505, 8.03367504,\n",
       "        8.66399503]),\n",
       " <BarContainer object of 10 artists>)"
      ]
     },
     "execution_count": 32,
     "metadata": {},
     "output_type": "execute_result"
    },
    {
     "data": {
      "image/png": "[encoded data removed]",
      "text/plain": [
       "<Figure size 640x480 with 1 Axes>"
      ]
     },
     "metadata": {},
     "output_type": "display_data"
    }
   ],
   "source": [
    "simul12 = np.random.rand(12,100)\n",
    "simul_sum = np.sum(simul12, axis=0)\n",
    "plt.hist(simul_sum)"
   ]
  },
  {
   "cell_type": "markdown",
   "metadata": {},
   "source": [
    "On remarque que l'histogramme ressemble à une distribution normale (en forme de cloche). Cela est dû au théorème central limite, qui stipule que la somme de nombreuses variables aléatoires indépendantes, chacune tirée d'une distribution quelconque, tend vers une distribution normale lorsque le nombre d'échantillons est suffisamment grand. "
   ]
  },
  {
   "cell_type": "markdown",
   "metadata": {},
   "source": [
    "> ### 6.\n",
    "Utilisez la commande `sns.kdeplot`, pour tracer la densité estimée de simul_sum"
   ]
  },
  {
   "cell_type": "code",
   "execution_count": 33,
   "metadata": {},
   "outputs": [
    {
     "data": {
      "text/plain": [
       "<Axes: ylabel='Density'>"
      ]
     },
     "execution_count": 33,
     "metadata": {},
     "output_type": "execute_result"
    },
    {
     "data": {
      "image/png": "[encoded data removed]",
      "text/plain": [
       "<Figure size 640x480 with 1 Axes>"
      ]
     },
     "metadata": {},
     "output_type": "display_data"
    }
   ],
   "source": [
    "sns.kdeplot(simul_sum)"
   ]
  },
  {
   "cell_type": "markdown",
   "metadata": {},
   "source": [
    "> ### 7.\n",
    "Utilisez la commande `stat.ttest_1samp` du module scipy.stats pour faire un test de student de moyenne 6.\n",
    "Faire de même un test de student de correspondance à une moyenne de 7.\n",
    "Commentez."
   ]
  },
  {
   "cell_type": "code",
   "execution_count": 34,
   "metadata": {},
   "outputs": [
    {
     "data": {
      "text/plain": [
       "TtestResult(statistic=0.02152444124409021, pvalue=0.9828706299854418, df=99)"
      ]
     },
     "execution_count": 34,
     "metadata": {},
     "output_type": "execute_result"
    }
   ],
   "source": [
    "stat.ttest_1samp(simul_sum, 6)"
   ]
  },
  {
   "cell_type": "code",
   "execution_count": 35,
   "metadata": {},
   "outputs": [
    {
     "data": {
      "text/plain": [
       "TtestResult(statistic=-8.407128990475222, pvalue=3.1960220364013574e-13, df=99)"
      ]
     },
     "execution_count": 35,
     "metadata": {},
     "output_type": "execute_result"
    }
   ],
   "source": [
    "stat.ttest_1samp(simul_sum, 7)"
   ]
  },
  {
   "cell_type": "markdown",
   "metadata": {},
   "source": [
    "Ce code effectue deux tests de Student à une seule échantillon. Dans le premier test, il teste si la moyenne des données est égale à 6, tandis que dans le deuxième test, il teste si la moyenne des données est égale à 7.\n",
    "Dans le premier cas, la p-valeur est supérieure à un niveau de signification donné (0,01), alors on accepte l'hypothèse selon laquelle la moyenne de l'échantillon est égale à la moyenne de 6.\n",
    "Dans le second cas, la p-valeur est inférieure à un niveau de signification donné (0,01), alors on rejette l'hypothèse nulle selon laquelle la moyenne de l'échantillon est égale à la moyenne de 7."
   ]
  },
  {
   "cell_type": "markdown",
   "metadata": {},
   "source": [
    "## Exercice 4: Temps d'attente moyen au guichet\n",
    "\n",
    "On cherche à estimer le temps d’attente moyen au guichet d’une grande banque aux heures de forte affluence.\n",
    "On a observé 26 clients choisis au hasard et on a obtenu les temps d’attente sauvegardés dans une liste `t_a`.\n",
    "\n",
    "On suppose que ces temps d'attentes sont distribués normalement et on se demande:\n",
    "\n",
    "Est-ce qu'on peut rejetter, au risque de 5%, le fait que le temps d'attente au guichet est égal à 4 minutes?"
   ]
  },
  {
   "cell_type": "code",
   "execution_count": 36,
   "metadata": {},
   "outputs": [],
   "source": [
    "t_a = [6.1, 4.7, 5.6, 4.5, 5.5, 6.8, 2.1, 2.1, 3.5, 2.5, 6.7, 4.4, 4.5, 6.5, 4.9, 3.8, 2.5, 4.0, 6.5, 5.6, 2.7, 3.4, 5.6, 3.5, 4.8, 4.4]"
   ]
  },
  {
   "cell_type": "markdown",
   "metadata": {},
   "source": [
    ">### 1. \n",
    "    On pense effectuer un test de Student. Pourquoi est-il approprié ici? Dans quel cas ne serait-il pas?"
   ]
  },
  {
   "cell_type": "markdown",
   "metadata": {},
   "source": [
    "Dans ce cas, le test de Student est approprié car :\n",
    "\n",
    "Nous avons une seule série de données (les temps d'attente observés).\n",
    "Nous voulons tester si la moyenne de cette série est égale à une valeur spécifique (4 minutes).\n",
    "Nous supposons que les données suivent une distribution normale.\n",
    "Le test de Student ne serait pas approprié si :\n",
    "\n",
    "Nous avions deux groupes indépendants à comparer.\n",
    "Nous voulions comparer plus de deux groupes.\n",
    "Les données ne suivaient pas une distribution normale.\n",
    "Les données présentaient une hétéroscédasticité importante (c'est-à-dire une variance inégale entre les groupes ou les échantillons)."
   ]
  },
  {
   "cell_type": "markdown",
   "metadata": {},
   "source": [
    ">### 2.\n",
    "Effectuez ce test à l'aide de la fonction `stat.ttest_1samp`.\n",
    "    Interpretez les résultats.\n"
   ]
  },
  {
   "cell_type": "code",
   "execution_count": 37,
   "metadata": {},
   "outputs": [
    {
     "data": {
      "text/plain": [
       "TtestResult(statistic=1.7891501337389775, pvalue=0.08571467358919065, df=25)"
      ]
     },
     "execution_count": 37,
     "metadata": {},
     "output_type": "execute_result"
    }
   ],
   "source": [
    "stat.ttest_1samp(t_a, 4)"
   ]
  },
  {
   "cell_type": "markdown",
   "metadata": {},
   "source": [
    "pvalue > 0.01, il est donc approprié de valider l'hypothèse selon laquelle la moyenne vaut 4 minutes."
   ]
  },
  {
   "cell_type": "markdown",
   "metadata": {},
   "source": [
    "> ### 3.\n",
    "On procède maintenant à un test unilateral pour déterminer si le temps d'attente est supérieur à 4 minutes. Effectuer le test de Student unilateral avec `stat.ttest_1samp` en utilisant l'argument optionnel \"alternative\" (lire la documentation si besoin). Commentez."
   ]
  },
  {
   "cell_type": "code",
   "execution_count": 38,
   "metadata": {},
   "outputs": [
    {
     "data": {
      "text/plain": [
       "TtestResult(statistic=1.7891501337389775, pvalue=0.04285733679459532, df=25)"
      ]
     },
     "execution_count": 38,
     "metadata": {},
     "output_type": "execute_result"
    }
   ],
   "source": [
    "stat.ttest_1samp(t_a, 4, alternative='greater')"
   ]
  },
  {
   "cell_type": "markdown",
   "metadata": {},
   "source": [
    "pvalue > 0.01, il est donc approprié de valider l'hypothèse selon laquelle la moyenne est supérieure à 4 minutes."
   ]
  },
  {
   "cell_type": "markdown",
   "metadata": {},
   "source": [
    "## Exercice 5: Test de performance.\n",
    "\n",
    "Un directeur d'entreprise a fait passer le même test d'aptitude à deux groupes de candidats. Le temps (en minutes) nécessaire à chacun des candidats pour répondre au test sont stocké ci dessous.\n",
    "        \n",
    "Nous supposons que les temps de réponse de chaque groupe sont distribués normalement et que les performances des deux groupes sont indépendantes."
   ]
  },
  {
   "cell_type": "code",
   "execution_count": 39,
   "metadata": {},
   "outputs": [],
   "source": [
    "time = {\"gr1\": [8.6, 10.9, 7.3, 9.2, 8.5, 9.2, 9.1, 8.9, 10.7, 8.2, 7.1, 9.4, 8.3, 9.7, 9.2],\n",
    "       \"gr2\": [8.3, 7.2, 8.7, 6.7, 10.3, 6.8, 9.8, 8.9, 9.6, 8.6, 6.7, 7.5]}"
   ]
  },
  {
   "cell_type": "markdown",
   "metadata": {},
   "source": [
    ">### 1. \n",
    "On voudrait tester l'hypothèse que les variances des temps de réponse du groupe 1 et 2 sont identiques.\n",
    "Quel est le test adapté? Précicez la loi et les paramètres qu'il fait intervenir."
   ]
  },
  {
   "cell_type": "markdown",
   "metadata": {},
   "source": [
    "Pour tester l'hypothèse que les variances des temps de réponse des deux groupes sont identiques, le test approprié est le test de Fisher\n",
    "Le test F suppose que les échantillons suivent une distribution normale."
   ]
  },
  {
   "cell_type": "code",
   "execution_count": null,
   "metadata": {},
   "outputs": [],
   "source": []
  },
  {
   "cell_type": "markdown",
   "metadata": {},
   "source": [
    ">### 2.\n",
    "Ce test n'est pas fourni par la bibliothèque scipy. On va donc le coder à la main. \n",
    "Completez le code ci-dessous. "
   ]
  },
  {
   "cell_type": "code",
   "execution_count": 40,
   "metadata": {},
   "outputs": [
    {
     "name": "stdout",
     "output_type": "stream",
     "text": [
      "On ne peut pas rejetter H_0 au risque < 5%\n",
      "variance empirique du groupe 1 :  1.0926666666666667\n",
      "variance empirique du groupe 2 :  1.6135606060606065\n",
      "statistique de test :  0.6771773322691205\n"
     ]
    }
   ],
   "source": [
    "from scipy.stats import f\n",
    "\n",
    "var1 = np.var(time[\"gr1\"], ddof=1)\n",
    "var2 = np.var(time[\"gr2\"], ddof=1)\n",
    "\n",
    "## Degrés de libertés\n",
    "d1= len(time['gr1']) - 1\n",
    "d2= len(time['gr2']) - 1\n",
    "\n",
    "## F est notre statistique de test, formés des variables définies au dessus.\n",
    "F = var1 / var2\n",
    "\n",
    "##Mettez alpha = 0.05 et calculez les quantiles alpha, et 1-alpha de la loi correspondante au test\n",
    "alpha= 0.05\n",
    "q1 = alpha\n",
    "q2 = 1-alpha\n",
    "\n",
    "### Test d'hypothèse \n",
    "if F<q1 or F > q2:\n",
    "    print(\"H_0 est rejetté au risque < 5%\")\n",
    "else:\n",
    "    print(\"On ne peut pas rejetter H_0 au risque < 5%\")\n",
    "\n",
    "print(\"variance empirique du groupe 1 : \", var1)\n",
    "print(\"variance empirique du groupe 2 : \", var2)\n",
    "print(\"statistique de test : \", F)\n"
   ]
  },
  {
   "cell_type": "markdown",
   "metadata": {},
   "source": [
    "> ### 4.\n",
    "Pourquoi a-t-on mis ddof=1 dans les calculs de la variance?"
   ]
  },
  {
   "cell_type": "markdown",
   "metadata": {},
   "source": [
    "Nous avons mis ddof=1 dans les calculs de la variance pour obtenir la variance non-biaisée."
   ]
  },
  {
   "cell_type": "markdown",
   "metadata": {},
   "source": [
    "> ### 5.\n",
    "En utilisant la fonction f.cdf et la statistique F calculée à la question précédente calculez la p value du test."
   ]
  },
  {
   "cell_type": "code",
   "execution_count": 41,
   "metadata": {},
   "outputs": [
    {
     "data": {
      "text/plain": [
       "0.24299929271157222"
      ]
     },
     "execution_count": 41,
     "metadata": {},
     "output_type": "execute_result"
    }
   ],
   "source": [
    "p_value = f.cdf(F, d1, d2)\n",
    "p_value"
   ]
  }
 ],
 "metadata": {
  "kernelspec": {
   "display_name": "venv",
   "language": "python",
   "name": "venv"
  },
  "language_info": {
   "codemirror_mode": {
    "name": "ipython",
    "version": 3
   },
   "file_extension": ".py",
   "mimetype": "text/x-python",
   "name": "python",
   "nbconvert_exporter": "python",
   "pygments_lexer": "ipython3",
   "version": "3.11.5"
  }
 },
 "nbformat": 4,
 "nbformat_minor": 4
}
