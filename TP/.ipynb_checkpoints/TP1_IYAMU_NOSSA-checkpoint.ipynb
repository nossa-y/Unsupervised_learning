{
 "cells": [
  {
   "cell_type": "markdown",
   "metadata": {},
   "source": [
    "# TP de statistique inférentielle\n",
    "> #### A propos de jupyter notebook.\n",
    "C'est un espace qui permet de mélanger du texte (même latex), code etc. \n",
    "Pour executer une cellule tapez Enter. Pour inserer une nouvelle cellule à un endroit, ou changer le type d'une cellule existante vous pouvez utiliser le menu en haut.\n",
    "Par exemple ceci est une cellule dite \"Markdown\" pour du texte.\n",
    "En bas vous allez voir des celules type \"code\" ou on peut executer du code (Python3 ici).\n",
    "On encourage à se documenter sur internet (https://jupyter-notebook.readthedocs.io/en/stable/ site officiel par exemple) ou un grand nombre de tutoriels et réponses aux questions sont présents.\n",
    "\n",
    " #### A propos des différents modules utilisés. \n",
    " \n",
    "On encourage fortement à se documenter sur internet pour des questions plus poussées (ou pas)\n",
    "    \n",
    "> **pandas**: est un module qui permet d'analyser et de manipuler les données. On verra en particulier l'objet dataframe qui permet de manipuler des tables de données.\n",
    " \n",
    ">**matplotlib.pyplot**: est un module permettant d'afficher des graphiques.\n",
    "    seaborn: un module qui permet de visualiser les données. Souvent, quand on sait le manipuler, ça donne des résultats \"plus beaux\" que matplotlib.pyplot\n",
    "\n",
    ">**numpy**: Un package de calcul scientifique\n",
    "\n",
    ">**scipy.stats**: Un module qui contient un grand nombre d'outils statistiques: distribution, fonction de répartition, tests etc.\n",
    "\n",
    "#### Consignes.\n",
    ">   \n",
    "Répondre à chaque question dans les cellules que vous créerez après la question correspondante.\n",
    "\n",
    ">La note prendra compte de la **présentation et de la clareté** des réponses.\n",
    " \n",
    ">Envoyez le le fichier jupyter notebook sur le mail\n",
    "sholom.schechtman@telecom-sudparis.eu. Le nom du fichier et le sujet du mail doit être indiqué: **<span style=\"color:red\">TP1_NOM_PRENOM</span>**. C'est **important** pour que votre tp ne se perde pas et soit **noté**.\n",
    "\n",
    ">**<span style=\"color:red\">Attention</span>** à bien envoyer sur la bonne adresse mail. C'est sholom.schechtman@telecom-<span style=\"color:red\">sudparis</span>.eu (une ancienne adresse désuète est présente dans le répertoire zimbra).\n",
    "\n",
    ">Délai: Le tp est à rendre avant **<span style=\"color:red\">vendredi 15 mars 23h59</span>**\n",
    "\n",
    ">Note: Pour recevoir une note il faut faire **<span style=\"color:red\">les 2 TPs</span>**: celui-là et celui portant sur les sondages début avril.\n"
   ]
  },
  {
   "cell_type": "markdown",
   "metadata": {},
   "source": [
    "**On importe les packages nécessaires**"
   ]
  },
  {
   "cell_type": "code",
   "execution_count": null,
   "metadata": {},
   "outputs": [],
   "source": [
    "import pandas as pd\n",
    "import matplotlib.pyplot as plt\n",
    "import numpy as np\n",
    "import scipy.stats as stat\n",
    "import seaborn as sns\n",
    "%matplotlib inline"
   ]
  },
  {
   "cell_type": "markdown",
   "metadata": {},
   "source": [
    "# Exercice 1. pandas et manipulations de données"
   ]
  },
  {
   "cell_type": "markdown",
   "metadata": {},
   "source": [
    "> ### 1. \n",
    "Créez un dictionnaire, representant nos données: `data = {\"nom\": [\"tutu\", \"toto\", \"titi\"],\n",
    "       \"sexe\": [\"M\", \"M\", \"F\"],\n",
    "       \"taille\": [1.56, 1.82, 1.70], \n",
    "       \"naissance\": [\"11/12/82\", \"21/12/82\", \"25/12/83\"]}`\n",
    "       \n",
    "> Utilisez la commande `df = pd.DataFrame(data)` pour importer les données dans un Dataframe de nom df\n"
   ]
  },
  {
   "cell_type": "markdown",
   "metadata": {},
   "source": [
    "> ### 2. \n",
    "Testez et décrivez le fonctionnement des commandes `df.head()`, `df.head(0)`, `df.head(1)`, `df.head(2)`. "
   ]
  },
  {
   "cell_type": "markdown",
   "metadata": {},
   "source": [
    "> ### 3. \n",
    "Qu'est ce qui se passe si on remplace head par tail dans la question précédente? \n"
   ]
  },
  {
   "cell_type": "markdown",
   "metadata": {},
   "source": [
    "> ### 4.\n",
    "Décrivez le fonctionnement de la commande `df.sort_values`: prenez un argument \"taille\" et testez deux valeurs `ascending= True` et `ascending = False`"
   ]
  },
  {
   "cell_type": "markdown",
   "metadata": {},
   "source": [
    "\n",
    "\n",
    "> ### 5.\n",
    "    \n",
    "> Testez et décrivez la commande `df[\"var\"] = [1 if x > 1.6 else 0 for x in df[\"taille\"]]`?"
   ]
  },
  {
   "cell_type": "markdown",
   "metadata": {},
   "source": [
    ">### 6. \n",
    "Supprimez la colonne \"var\" avec la commande `df.drop` (voir documentation et mettez axis=1 en argument)"
   ]
  },
  {
   "cell_type": "markdown",
   "metadata": {},
   "source": [
    ">### 7.   \n",
    "Testez la commande `df.loc[df[\"sexe\"] == \"M\"]`.\n",
    "Testez la commande `df.loc[df[\"sexe\"] == \"M\", \"taille\"]`."
   ]
  },
  {
   "cell_type": "markdown",
   "metadata": {},
   "source": [
    ">### 8.\n",
    "\n",
    "\n",
    "On suppose que le poids d'un homme est poids = (tailleencm)/2 - 10\n",
    "et le poids d'une femme est poids = (tailleencm)/2 - 15\n",
    "\n",
    ">A l'aide des questions précédentes completez la colonne poids."
   ]
  },
  {
   "cell_type": "markdown",
   "metadata": {},
   "source": [
    "> ### 9. \n",
    "Que fait la commande `df[\"taille\"].mean()`?\n",
    "Faites apparaître le poids moyen des données"
   ]
  },
  {
   "cell_type": "markdown",
   "metadata": {},
   "source": [
    "> ### 10. \n",
    "Que fait la commande `df.loc[df[\"sexe\"]==\"M\"]`?\n",
    "Faites apparaître le poids moyen des hommes"
   ]
  },
  {
   "cell_type": "markdown",
   "metadata": {},
   "source": [
    "> ### 11.\n",
    "Faites apparaître le nom de la personne la plus légère."
   ]
  },
  {
   "cell_type": "markdown",
   "metadata": {},
   "source": [
    "# Exercice 2: Analyse d'un jeude données bancaires"
   ]
  },
  {
   "cell_type": "markdown",
   "metadata": {},
   "source": [
    "    Le jeu de données german.data, disponible comporte desrenseignements\n",
    "    sur 1000 clients d’une banque allemande, chaque client étant décrit par 20 variables.\n",
    "    \n",
    "    \n",
    "> ### 1. \n",
    "Téléchargez le et importez le dans une DataFrame en utilisant la commande `german = pd.read_csv(\"nom_du_fichier\", sep = ' ', header=None)`"
   ]
  },
  {
   "cell_type": "markdown",
   "metadata": {},
   "source": [
    "> ### 2.\n",
    "Creez le dictionnaire `{1: \"durée\", 4:\"montant\"}` et utilisez le dans la commande `german.rename()` pour renommer les colonnes correspondantes."
   ]
  },
  {
   "cell_type": "markdown",
   "metadata": {},
   "source": [
    "> ### 3.\n",
    "Utilisez la commade `describe` de pandas pour obtenir des premières informations sur la durée et les montants du crédit"
   ]
  },
  {
   "cell_type": "markdown",
   "metadata": {},
   "source": [
    "> ### 4.\n",
    "Utilisez la commande `german.boxplot()` pour créez une boite à moustache de la variable durée.\n",
    "    Faire de même pour la variable montant."
   ]
  },
  {
   "cell_type": "markdown",
   "metadata": {},
   "source": [
    "> ### 5. \n",
    "Faire la question précedente en utilisant le module seaborn: `sns.boxplot`"
   ]
  },
  {
   "cell_type": "markdown",
   "metadata": {},
   "source": [
    "> ### 7. \n",
    "Utilisez la commande `german.hist` pour tracer un histograme des variables durées et montant"
   ]
  },
  {
   "cell_type": "markdown",
   "metadata": {},
   "source": [
    "> ### 8. \n",
    "Utilisez la commande `german.plot.scatter` pour tracer le scatter plot des variable \"durée\" et \"montant\""
   ]
  },
  {
   "cell_type": "markdown",
   "metadata": {},
   "source": [
    "> ### 9.\n",
    "Tracez la table de correlations entre \"durée\" et \"montant\" à l'aide de la commande `german[].corr()` (pensez à selectionner les bonnes colonnes)."
   ]
  },
  {
   "cell_type": "markdown",
   "metadata": {},
   "source": [
    "> ### 10.\n",
    "Utilisez `stat.pearsonr` pour tester la correlation entre les deux variables (voir chapitre 4 pour ce test). Que peut-on en conclure?"
   ]
  },
  {
   "cell_type": "markdown",
   "metadata": {},
   "source": [
    "# Exercice 3: Simulation d'un jeu de données\n",
    "\n",
    ">### 1. \n",
    "Quel est l'effet de la commande suivante?"
   ]
  },
  {
   "cell_type": "code",
   "execution_count": null,
   "metadata": {},
   "outputs": [],
   "source": [
    "for i in range(3):\n",
    "    if i<2:\n",
    "        print(i, \": \", np.random.rand())\n",
    "    else:\n",
    "        print(i, \": \", np.random.rand(2,3))"
   ]
  },
  {
   "cell_type": "markdown",
   "metadata": {},
   "source": [
    ">### 2. \n",
    "Commentez la différence avec la question précédente.\n",
    "(essayez d'executer la cellule plusieurs fois de suite)"
   ]
  },
  {
   "cell_type": "code",
   "execution_count": null,
   "metadata": {},
   "outputs": [],
   "source": [
    "np.random.seed(0)\n",
    "for i in range(3):\n",
    "    if i<2:\n",
    "        print(i, \": \", np.random.rand())\n",
    "    else:\n",
    "        print(i, \": \", np.random.rand(2,3))"
   ]
  },
  {
   "cell_type": "markdown",
   "metadata": {},
   "source": [
    "> ### 3. \n",
    "Sauvegardez dans une variable \"simul\" un échantillon de 100 valeurs aléatoires, chacune tirée uniformément dans [0,1].\n",
    "\n",
    ">Tracez son histogramme avec la commande plt.hist"
   ]
  },
  {
   "cell_type": "markdown",
   "metadata": {},
   "source": [
    "\n",
    "> ### 4. \n",
    "Dans les commandes précédentes remplacez `rand` par `randn` et `exponential`. Qu'est ce qui change?"
   ]
  },
  {
   "cell_type": "markdown",
   "metadata": {},
   "source": [
    "> ### 5. \n",
    "Simulez dans une variable `simul12`, 12 simulations (1 par ligne) de 1000 tirages d'une loi uniforme\n",
    " Utilisez la commande `np.sum` pour avoir une array de 1000 éléments qui somme les 12 tirages. Sauvegarder ce resultat dans une variable `simul_sum`.\n",
    "    Enfin tracez l'histogramme de `simul_sum`. De quoi s'aperçoit-on. Commentez."
   ]
  },
  {
   "cell_type": "markdown",
   "metadata": {},
   "source": [
    "> ### 6.\n",
    "Utilisez la commande `sns.kdeplot`, pour tracer la densité estimée de simul_sum"
   ]
  },
  {
   "cell_type": "markdown",
   "metadata": {},
   "source": [
    "> ### 7.\n",
    "Utilisez la commande `stat.ttest_1samp` du module scipy.stats pour faire un test de student de moyenne 6.\n",
    "Faire de même un test de student de correspondance à une moyenne de 7.\n",
    "Commentez."
   ]
  },
  {
   "cell_type": "markdown",
   "metadata": {},
   "source": [
    "## Exercice 4: Temps d'attente moyen au guichet\n",
    "\n",
    "On cherche à estimer le temps d’attente moyen au guichet d’une grande banque aux heures de forte affluence.\n",
    "On a observé 26 clients choisis au hasard et on a obtenu les temps d’attente sauvegardés dans une liste `t_a`.\n",
    "\n",
    "On suppose que ces temps d'attentes sont distribués normalement et on se demande:\n",
    "\n",
    "Est-ce qu'on peut rejetter, au risque de 5%, le fait que le temps d'attente au guichet est égal à 4 minutes?"
   ]
  },
  {
   "cell_type": "code",
   "execution_count": null,
   "metadata": {},
   "outputs": [],
   "source": [
    "t_a = [6.1, 4.7, 5.6, 4.5, 5.5, 6.8, 2.1, 2.1, 3.5, 2.5, 6.7, 4.4, 4.5, 6.5, 4.9, 3.8, 2.5, 4.0, 6.5, 5.6, 2.7, 3.4, 5.6, 3.5, 4.8, 4.4]"
   ]
  },
  {
   "cell_type": "markdown",
   "metadata": {},
   "source": [
    ">### 1. \n",
    "    On pense effectuer un test de Student. Pourquoi est-il approprié ici? Dans quel cas ne serait-il pas?"
   ]
  },
  {
   "cell_type": "markdown",
   "metadata": {},
   "source": [
    ">### 2.\n",
    "Effectuez ce test à l'aide de la fonction `stat.ttest_1samp`.\n",
    "    Interpretez les résultats.\n"
   ]
  },
  {
   "cell_type": "markdown",
   "metadata": {},
   "source": [
    "> ### 3.\n",
    "On procède maintenant à un test unilateral pour déterminer si le temps d'attente est supérieur à 4 minutes. Effectuer le test de Student unilateral avec `stat.ttest_1samp` en utilisant l'argument optionnel \"alternative\" (lire la documentation si besoin). Commentez."
   ]
  },
  {
   "cell_type": "markdown",
   "metadata": {},
   "source": [
    "## Exercice 5: Test de performance.\n",
    "\n",
    "Un directeur d'entreprise a fait passer le même test d'aptitude à deux groupes de candidats. Le temps (en minutes) nécessaire à chacun des candidats pour répondre au test sont stocké ci dessous.\n",
    "        \n",
    "Nous supposons que les temps de réponse de chaque groupe sont distribués normalement et que les performances des deux groupes sont indépendantes."
   ]
  },
  {
   "cell_type": "code",
   "execution_count": null,
   "metadata": {},
   "outputs": [],
   "source": [
    "time = {\"gr1\": [8.6, 10.9, 7.3, 9.2, 8.5, 9.2, 9.1, 8.9, 10.7, 8.2, 7.1, 9.4, 8.3, 9.7, 9.2],\n",
    "       \"gr2\": [8.3, 7.2, 8.7, 6.7, 10.3, 6.8, 9.8, 8.9, 9.6, 8.6, 6.7, 7.5]}"
   ]
  },
  {
   "cell_type": "markdown",
   "metadata": {},
   "source": [
    ">### 1. \n",
    "On voudrait tester l'hypothèse que les variances des temps de réponse du groupe 1 et 2 sont identiques.\n",
    "Quel est le test adapté? Précicez la loi et les paramètres qu'il fait intervenir."
   ]
  },
  {
   "cell_type": "markdown",
   "metadata": {},
   "source": [
    ">### 2.\n",
    "Ce test n'est pas fourni par la bibliothèque scipy. On va donc le coder à la main. \n",
    "Completez le code ci-dessous. "
   ]
  },
  {
   "cell_type": "code",
   "execution_count": null,
   "metadata": {},
   "outputs": [],
   "source": [
    "from scipy.stats import f\n",
    "\n",
    "var1 = np.var(time[\"gr1\"], ddof=1)\n",
    "var2 = np.var(time[\"gr2\"], ddof=1)\n",
    "\n",
    "## Degrés de libertés\n",
    "d1=\n",
    "d2=\n",
    "\n",
    "## F est notre statistique de test, formés des variables définies au dessus.\n",
    "F = \n",
    "\n",
    "##Mettez alpha = 0.05 et calculez les quantiles alpha, et 1-alpha de la loi correspondante au test\n",
    "alpha= \n",
    "q1 = \n",
    "q2 = \n",
    "\n",
    "### Test d'hypothèse \n",
    "if F<q1 or F > q2:\n",
    "    print(\"H_0 est rejetté au risque < 5%\")\n",
    "else:\n",
    "    print(\"On ne peut pas rejetter H_0 au risque < 5%\")\n",
    "\n",
    "print(\"variance empirique du groupe 1 : \", var1)\n",
    "print(\"variance empirique du groupe 2 : \", var2)\n",
    "print(\"statistique de test : \", F)\n"
   ]
  },
  {
   "cell_type": "markdown",
   "metadata": {},
   "source": [
    "> ### 4.\n",
    "Pourquoi a-t-on mis ddof=1 dans les calculs de la variance?"
   ]
  },
  {
   "cell_type": "markdown",
   "metadata": {},
   "source": [
    "> ### 5.\n",
    "En utilisant la fonction f.cdf et la statistique F calculée à la question précédente calculez la p value du test."
   ]
  }
 ],
 "metadata": {
  "kernelspec": {
   "display_name": "Python 3 (ipykernel)",
   "language": "python",
   "name": "python3"
  },
  "language_info": {
   "codemirror_mode": {
    "name": "ipython",
    "version": 3
   },
   "file_extension": ".py",
   "mimetype": "text/x-python",
   "name": "python",
   "nbconvert_exporter": "python",
   "pygments_lexer": "ipython3",
   "version": "3.9.13"
  }
 },
 "nbformat": 4,
 "nbformat_minor": 2
}
